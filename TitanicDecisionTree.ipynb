{
 "cells": [
  {
   "cell_type": "markdown",
   "id": "90244589-8dd1-4711-a444-ed67c86a4dfe",
   "metadata": {},
   "source": [
    "# Titanic - Árboles de decisión"
   ]
  },
  {
   "cell_type": "markdown",
   "id": "b4dfd08c-0e81-4f99-9c3b-4f9c97d1b7c2",
   "metadata": {},
   "source": [
    "## Machine learning: Desicion Tree on the Titanic dataset"
   ]
  },
  {
   "cell_type": "code",
   "execution_count": 1023,
   "id": "c3d6c0d3-ccc1-4861-88c8-8ddd484e25bb",
   "metadata": {},
   "outputs": [],
   "source": [
    "#Importar librerías\n",
    "import pandas as pd \n",
    "import numpy as np\n",
    "import matplotlib.pyplot as plt\n",
    "import seaborn as sns\n",
    "from sklearn.model_selection import train_test_split\n",
    "from sklearn.tree import DecisionTreeClassifier, plot_tree\n",
    "from sklearn.metrics import accuracy_score\n",
    "from sklearn.impute import SimpleImputer"
   ]
  },
  {
   "cell_type": "code",
   "execution_count": 1024,
   "id": "89276983-6802-457b-91e3-d2acc7916039",
   "metadata": {},
   "outputs": [
    {
     "data": {
      "text/html": [
       "<div>\n",
       "<style scoped>\n",
       "    .dataframe tbody tr th:only-of-type {\n",
       "        vertical-align: middle;\n",
       "    }\n",
       "\n",
       "    .dataframe tbody tr th {\n",
       "        vertical-align: top;\n",
       "    }\n",
       "\n",
       "    .dataframe thead th {\n",
       "        text-align: right;\n",
       "    }\n",
       "</style>\n",
       "<table border=\"1\" class=\"dataframe\">\n",
       "  <thead>\n",
       "    <tr style=\"text-align: right;\">\n",
       "      <th></th>\n",
       "      <th>PassengerId</th>\n",
       "      <th>Survived</th>\n",
       "      <th>Pclass</th>\n",
       "      <th>Name</th>\n",
       "      <th>Sex</th>\n",
       "      <th>Age</th>\n",
       "      <th>SibSp</th>\n",
       "      <th>Parch</th>\n",
       "      <th>Ticket</th>\n",
       "      <th>Fare</th>\n",
       "      <th>Cabin</th>\n",
       "      <th>Embarked</th>\n",
       "    </tr>\n",
       "  </thead>\n",
       "  <tbody>\n",
       "    <tr>\n",
       "      <th>0</th>\n",
       "      <td>1</td>\n",
       "      <td>0</td>\n",
       "      <td>3</td>\n",
       "      <td>Braund, Mr. Owen Harris</td>\n",
       "      <td>male</td>\n",
       "      <td>22.0</td>\n",
       "      <td>1</td>\n",
       "      <td>0</td>\n",
       "      <td>A/5 21171</td>\n",
       "      <td>7.2500</td>\n",
       "      <td>NaN</td>\n",
       "      <td>S</td>\n",
       "    </tr>\n",
       "    <tr>\n",
       "      <th>1</th>\n",
       "      <td>2</td>\n",
       "      <td>1</td>\n",
       "      <td>1</td>\n",
       "      <td>Cumings, Mrs. John Bradley (Florence Briggs Th...</td>\n",
       "      <td>female</td>\n",
       "      <td>38.0</td>\n",
       "      <td>1</td>\n",
       "      <td>0</td>\n",
       "      <td>PC 17599</td>\n",
       "      <td>71.2833</td>\n",
       "      <td>C85</td>\n",
       "      <td>C</td>\n",
       "    </tr>\n",
       "    <tr>\n",
       "      <th>2</th>\n",
       "      <td>3</td>\n",
       "      <td>1</td>\n",
       "      <td>3</td>\n",
       "      <td>Heikkinen, Miss. Laina</td>\n",
       "      <td>female</td>\n",
       "      <td>26.0</td>\n",
       "      <td>0</td>\n",
       "      <td>0</td>\n",
       "      <td>STON/O2. 3101282</td>\n",
       "      <td>7.9250</td>\n",
       "      <td>NaN</td>\n",
       "      <td>S</td>\n",
       "    </tr>\n",
       "    <tr>\n",
       "      <th>3</th>\n",
       "      <td>4</td>\n",
       "      <td>1</td>\n",
       "      <td>1</td>\n",
       "      <td>Futrelle, Mrs. Jacques Heath (Lily May Peel)</td>\n",
       "      <td>female</td>\n",
       "      <td>35.0</td>\n",
       "      <td>1</td>\n",
       "      <td>0</td>\n",
       "      <td>113803</td>\n",
       "      <td>53.1000</td>\n",
       "      <td>C123</td>\n",
       "      <td>S</td>\n",
       "    </tr>\n",
       "    <tr>\n",
       "      <th>4</th>\n",
       "      <td>5</td>\n",
       "      <td>0</td>\n",
       "      <td>3</td>\n",
       "      <td>Allen, Mr. William Henry</td>\n",
       "      <td>male</td>\n",
       "      <td>35.0</td>\n",
       "      <td>0</td>\n",
       "      <td>0</td>\n",
       "      <td>373450</td>\n",
       "      <td>8.0500</td>\n",
       "      <td>NaN</td>\n",
       "      <td>S</td>\n",
       "    </tr>\n",
       "  </tbody>\n",
       "</table>\n",
       "</div>"
      ],
      "text/plain": [
       "   PassengerId  Survived  Pclass  \\\n",
       "0            1         0       3   \n",
       "1            2         1       1   \n",
       "2            3         1       3   \n",
       "3            4         1       1   \n",
       "4            5         0       3   \n",
       "\n",
       "                                                Name     Sex   Age  SibSp  \\\n",
       "0                            Braund, Mr. Owen Harris    male  22.0      1   \n",
       "1  Cumings, Mrs. John Bradley (Florence Briggs Th...  female  38.0      1   \n",
       "2                             Heikkinen, Miss. Laina  female  26.0      0   \n",
       "3       Futrelle, Mrs. Jacques Heath (Lily May Peel)  female  35.0      1   \n",
       "4                           Allen, Mr. William Henry    male  35.0      0   \n",
       "\n",
       "   Parch            Ticket     Fare Cabin Embarked  \n",
       "0      0         A/5 21171   7.2500   NaN        S  \n",
       "1      0          PC 17599  71.2833   C85        C  \n",
       "2      0  STON/O2. 3101282   7.9250   NaN        S  \n",
       "3      0            113803  53.1000  C123        S  \n",
       "4      0            373450   8.0500   NaN        S  "
      ]
     },
     "execution_count": 1024,
     "metadata": {},
     "output_type": "execute_result"
    }
   ],
   "source": [
    "#Importar base de datos\n",
    "data = pd.read_csv(\"Titanic-Dataset.csv\")\n",
    "#visualización 5 primeras filas\n",
    "data.head() "
   ]
  },
  {
   "cell_type": "code",
   "execution_count": 1025,
   "id": "fdea4b14-48f7-448e-bd57-87300ce536aa",
   "metadata": {},
   "outputs": [
    {
     "data": {
      "text/plain": [
       "(891, 12)"
      ]
     },
     "execution_count": 1025,
     "metadata": {},
     "output_type": "execute_result"
    }
   ],
   "source": [
    "#Dimensiones del DataFrame\n",
    "data.shape"
   ]
  },
  {
   "cell_type": "markdown",
   "id": "1a8b4475-1132-4ca5-a780-08063c8169dc",
   "metadata": {},
   "source": [
    "**Contamos con un total de 891 filas y 12 columnas**"
   ]
  },
  {
   "cell_type": "code",
   "execution_count": 1026,
   "id": "ec42a5b9-63e3-45ba-be00-986b928cd652",
   "metadata": {},
   "outputs": [
    {
     "data": {
      "text/html": [
       "<div>\n",
       "<style scoped>\n",
       "    .dataframe tbody tr th:only-of-type {\n",
       "        vertical-align: middle;\n",
       "    }\n",
       "\n",
       "    .dataframe tbody tr th {\n",
       "        vertical-align: top;\n",
       "    }\n",
       "\n",
       "    .dataframe thead th {\n",
       "        text-align: right;\n",
       "    }\n",
       "</style>\n",
       "<table border=\"1\" class=\"dataframe\">\n",
       "  <thead>\n",
       "    <tr style=\"text-align: right;\">\n",
       "      <th></th>\n",
       "      <th>PassengerId</th>\n",
       "      <th>Survived</th>\n",
       "      <th>Pclass</th>\n",
       "      <th>Age</th>\n",
       "      <th>SibSp</th>\n",
       "      <th>Parch</th>\n",
       "      <th>Fare</th>\n",
       "    </tr>\n",
       "  </thead>\n",
       "  <tbody>\n",
       "    <tr>\n",
       "      <th>count</th>\n",
       "      <td>891.000000</td>\n",
       "      <td>891.000000</td>\n",
       "      <td>891.000000</td>\n",
       "      <td>714.000000</td>\n",
       "      <td>891.000000</td>\n",
       "      <td>891.000000</td>\n",
       "      <td>891.000000</td>\n",
       "    </tr>\n",
       "    <tr>\n",
       "      <th>mean</th>\n",
       "      <td>446.000000</td>\n",
       "      <td>0.383838</td>\n",
       "      <td>2.308642</td>\n",
       "      <td>29.699118</td>\n",
       "      <td>0.523008</td>\n",
       "      <td>0.381594</td>\n",
       "      <td>32.204208</td>\n",
       "    </tr>\n",
       "    <tr>\n",
       "      <th>std</th>\n",
       "      <td>257.353842</td>\n",
       "      <td>0.486592</td>\n",
       "      <td>0.836071</td>\n",
       "      <td>14.526497</td>\n",
       "      <td>1.102743</td>\n",
       "      <td>0.806057</td>\n",
       "      <td>49.693429</td>\n",
       "    </tr>\n",
       "    <tr>\n",
       "      <th>min</th>\n",
       "      <td>1.000000</td>\n",
       "      <td>0.000000</td>\n",
       "      <td>1.000000</td>\n",
       "      <td>0.420000</td>\n",
       "      <td>0.000000</td>\n",
       "      <td>0.000000</td>\n",
       "      <td>0.000000</td>\n",
       "    </tr>\n",
       "    <tr>\n",
       "      <th>25%</th>\n",
       "      <td>223.500000</td>\n",
       "      <td>0.000000</td>\n",
       "      <td>2.000000</td>\n",
       "      <td>20.125000</td>\n",
       "      <td>0.000000</td>\n",
       "      <td>0.000000</td>\n",
       "      <td>7.910400</td>\n",
       "    </tr>\n",
       "    <tr>\n",
       "      <th>50%</th>\n",
       "      <td>446.000000</td>\n",
       "      <td>0.000000</td>\n",
       "      <td>3.000000</td>\n",
       "      <td>28.000000</td>\n",
       "      <td>0.000000</td>\n",
       "      <td>0.000000</td>\n",
       "      <td>14.454200</td>\n",
       "    </tr>\n",
       "    <tr>\n",
       "      <th>75%</th>\n",
       "      <td>668.500000</td>\n",
       "      <td>1.000000</td>\n",
       "      <td>3.000000</td>\n",
       "      <td>38.000000</td>\n",
       "      <td>1.000000</td>\n",
       "      <td>0.000000</td>\n",
       "      <td>31.000000</td>\n",
       "    </tr>\n",
       "    <tr>\n",
       "      <th>max</th>\n",
       "      <td>891.000000</td>\n",
       "      <td>1.000000</td>\n",
       "      <td>3.000000</td>\n",
       "      <td>80.000000</td>\n",
       "      <td>8.000000</td>\n",
       "      <td>6.000000</td>\n",
       "      <td>512.329200</td>\n",
       "    </tr>\n",
       "  </tbody>\n",
       "</table>\n",
       "</div>"
      ],
      "text/plain": [
       "       PassengerId    Survived      Pclass         Age       SibSp  \\\n",
       "count   891.000000  891.000000  891.000000  714.000000  891.000000   \n",
       "mean    446.000000    0.383838    2.308642   29.699118    0.523008   \n",
       "std     257.353842    0.486592    0.836071   14.526497    1.102743   \n",
       "min       1.000000    0.000000    1.000000    0.420000    0.000000   \n",
       "25%     223.500000    0.000000    2.000000   20.125000    0.000000   \n",
       "50%     446.000000    0.000000    3.000000   28.000000    0.000000   \n",
       "75%     668.500000    1.000000    3.000000   38.000000    1.000000   \n",
       "max     891.000000    1.000000    3.000000   80.000000    8.000000   \n",
       "\n",
       "            Parch        Fare  \n",
       "count  891.000000  891.000000  \n",
       "mean     0.381594   32.204208  \n",
       "std      0.806057   49.693429  \n",
       "min      0.000000    0.000000  \n",
       "25%      0.000000    7.910400  \n",
       "50%      0.000000   14.454200  \n",
       "75%      0.000000   31.000000  \n",
       "max      6.000000  512.329200  "
      ]
     },
     "execution_count": 1026,
     "metadata": {},
     "output_type": "execute_result"
    }
   ],
   "source": [
    "#Datos estadisticos basicos\n",
    "data.describe()"
   ]
  },
  {
   "cell_type": "markdown",
   "id": "f38df1f8-ffc1-4f59-8b7a-ac18930ac37d",
   "metadata": {},
   "source": [
    "**A partir de los datos generados en pantalla se pueden tomar en consideración ciertos valores para tener una comprensión basica del tema en cuestión**"
   ]
  },
  {
   "cell_type": "markdown",
   "id": "9c069fab-641c-4475-b61b-abc39064aedf",
   "metadata": {},
   "source": [
    "**Ejemplo: Observamos que el promedio de edad de los pasajeras rondaba los 29, con una desviación estandar de 14, 80 como edad maxima y un total de 714 datos**"
   ]
  },
  {
   "cell_type": "code",
   "execution_count": 1027,
   "id": "9c3d5980-db9e-4c24-9958-653c55996731",
   "metadata": {},
   "outputs": [
    {
     "data": {
      "text/plain": [
       "PassengerId      0\n",
       "Survived         0\n",
       "Pclass           0\n",
       "Name             0\n",
       "Sex              0\n",
       "Age            177\n",
       "SibSp            0\n",
       "Parch            0\n",
       "Ticket           0\n",
       "Fare             0\n",
       "Cabin          687\n",
       "Embarked         2\n",
       "dtype: int64"
      ]
     },
     "execution_count": 1027,
     "metadata": {},
     "output_type": "execute_result"
    }
   ],
   "source": [
    "#Detección de valores faltantes o nulos\n",
    "data.isna().sum()"
   ]
  },
  {
   "cell_type": "code",
   "execution_count": 1028,
   "id": "fb0bb848-28ac-4f79-b71e-f0400924063f",
   "metadata": {},
   "outputs": [
    {
     "data": {
      "text/plain": [
       "PassengerId    0.000000\n",
       "Survived       0.000000\n",
       "Pclass         0.000000\n",
       "Name           0.000000\n",
       "Sex            0.000000\n",
       "Age            0.198653\n",
       "SibSp          0.000000\n",
       "Parch          0.000000\n",
       "Ticket         0.000000\n",
       "Fare           0.000000\n",
       "Cabin          0.771044\n",
       "Embarked       0.002245\n",
       "dtype: float64"
      ]
     },
     "execution_count": 1028,
     "metadata": {},
     "output_type": "execute_result"
    }
   ],
   "source": [
    "data.isna().sum() / len(data)"
   ]
  },
  {
   "cell_type": "markdown",
   "id": "13299e05-b5a5-430a-84b7-b33ccb6f60ab",
   "metadata": {},
   "source": [
    "**Total de 866 valores faltantes, 177 en edad, 687 en camarote y 2 en puerto de embarcación**"
   ]
  },
  {
   "cell_type": "markdown",
   "id": "5adf29fe-4e65-4f7b-aceb-882574f7b15a",
   "metadata": {},
   "source": [
    "**Edad: 19%, Camarote: 77%, Puerto de embarcación: 0.2%**"
   ]
  },
  {
   "cell_type": "code",
   "execution_count": 1029,
   "id": "e86c692a-d7f7-4a49-9554-1c47b275c78f",
   "metadata": {},
   "outputs": [],
   "source": [
    "#Eliminar valores nulos columna Cabin\n",
    "data.drop('Cabin',axis=1,inplace=True)"
   ]
  },
  {
   "cell_type": "code",
   "execution_count": 1030,
   "id": "352b9a68-8444-4964-90a8-8a87f23a62a7",
   "metadata": {},
   "outputs": [
    {
     "name": "stdout",
     "output_type": "stream",
     "text": [
      "<class 'pandas.core.frame.DataFrame'>\n",
      "RangeIndex: 891 entries, 0 to 890\n",
      "Data columns (total 11 columns):\n",
      " #   Column       Non-Null Count  Dtype  \n",
      "---  ------       --------------  -----  \n",
      " 0   PassengerId  891 non-null    int64  \n",
      " 1   Survived     891 non-null    int64  \n",
      " 2   Pclass       891 non-null    int64  \n",
      " 3   Name         891 non-null    object \n",
      " 4   Sex          891 non-null    object \n",
      " 5   Age          714 non-null    float64\n",
      " 6   SibSp        891 non-null    int64  \n",
      " 7   Parch        891 non-null    int64  \n",
      " 8   Ticket       891 non-null    object \n",
      " 9   Fare         891 non-null    float64\n",
      " 10  Embarked     889 non-null    object \n",
      "dtypes: float64(2), int64(5), object(4)\n",
      "memory usage: 76.7+ KB\n"
     ]
    }
   ],
   "source": [
    "data.info()"
   ]
  },
  {
   "cell_type": "code",
   "execution_count": 1031,
   "id": "30feb8ad-42b3-4e2e-a8a6-4e2cace1408d",
   "metadata": {},
   "outputs": [],
   "source": [
    "imputer=SimpleImputer(strategy='median')\n",
    "data['Age']=impute.fit_transform(data[['Age']])\n",
    "data.to_csv('titanic_imputed.csv', index=False)"
   ]
  },
  {
   "cell_type": "code",
   "execution_count": 1032,
   "id": "794ba9a0-18fe-492a-b4a2-4a992be377a2",
   "metadata": {},
   "outputs": [
    {
     "name": "stdout",
     "output_type": "stream",
     "text": [
      "<class 'pandas.core.frame.DataFrame'>\n",
      "RangeIndex: 891 entries, 0 to 890\n",
      "Data columns (total 11 columns):\n",
      " #   Column       Non-Null Count  Dtype  \n",
      "---  ------       --------------  -----  \n",
      " 0   PassengerId  891 non-null    int64  \n",
      " 1   Survived     891 non-null    int64  \n",
      " 2   Pclass       891 non-null    int64  \n",
      " 3   Name         891 non-null    object \n",
      " 4   Sex          891 non-null    object \n",
      " 5   Age          891 non-null    float64\n",
      " 6   SibSp        891 non-null    int64  \n",
      " 7   Parch        891 non-null    int64  \n",
      " 8   Ticket       891 non-null    object \n",
      " 9   Fare         891 non-null    float64\n",
      " 10  Embarked     889 non-null    object \n",
      "dtypes: float64(2), int64(5), object(4)\n",
      "memory usage: 76.7+ KB\n"
     ]
    }
   ],
   "source": [
    "data.info()"
   ]
  },
  {
   "cell_type": "code",
   "execution_count": 1033,
   "id": "d82ad7d1-7921-4e40-a88c-77a7e5dc876c",
   "metadata": {},
   "outputs": [
    {
     "data": {
      "text/plain": [
       "Embarked\n",
       "S    644\n",
       "C    168\n",
       "Q     77\n",
       "Name: count, dtype: int64"
      ]
     },
     "execution_count": 1033,
     "metadata": {},
     "output_type": "execute_result"
    }
   ],
   "source": [
    "data.Embarked.value_counts()"
   ]
  },
  {
   "cell_type": "code",
   "execution_count": 1034,
   "id": "8fed2288-96a1-4035-a400-fe6ae9ba8a3f",
   "metadata": {},
   "outputs": [],
   "source": [
    "impute=SimpleImputer(strategy='constant')\n",
    "data['Embarked'].fillna(data['Embarked'].mode()[0], inplace=True)\n",
    "data.to_csv('titanic_imputed.csv', index=False)"
   ]
  },
  {
   "cell_type": "code",
   "execution_count": 1035,
   "id": "69313547-5129-433d-84c2-ad254c53ddc8",
   "metadata": {},
   "outputs": [
    {
     "name": "stdout",
     "output_type": "stream",
     "text": [
      "<class 'pandas.core.frame.DataFrame'>\n",
      "RangeIndex: 891 entries, 0 to 890\n",
      "Data columns (total 11 columns):\n",
      " #   Column       Non-Null Count  Dtype  \n",
      "---  ------       --------------  -----  \n",
      " 0   PassengerId  891 non-null    int64  \n",
      " 1   Survived     891 non-null    int64  \n",
      " 2   Pclass       891 non-null    int64  \n",
      " 3   Name         891 non-null    object \n",
      " 4   Sex          891 non-null    object \n",
      " 5   Age          891 non-null    float64\n",
      " 6   SibSp        891 non-null    int64  \n",
      " 7   Parch        891 non-null    int64  \n",
      " 8   Ticket       891 non-null    object \n",
      " 9   Fare         891 non-null    float64\n",
      " 10  Embarked     891 non-null    object \n",
      "dtypes: float64(2), int64(5), object(4)\n",
      "memory usage: 76.7+ KB\n"
     ]
    }
   ],
   "source": [
    "data.info()"
   ]
  },
  {
   "cell_type": "code",
   "execution_count": 1036,
   "id": "7b751872-b3b0-4179-9d13-f9738b7a3c21",
   "metadata": {},
   "outputs": [
    {
     "data": {
      "text/plain": [
       "(array([549.,   0.,   0.,   0.,   0.,   0.,   0.,   0.,   0., 342.]),\n",
       " array([0. , 0.1, 0.2, 0.3, 0.4, 0.5, 0.6, 0.7, 0.8, 0.9, 1. ]),\n",
       " <BarContainer object of 10 artists>)"
      ]
     },
     "execution_count": 1036,
     "metadata": {},
     "output_type": "execute_result"
    },
    {
     "data": {
      "image/png": "[encoded data removed]",
      "text/plain": [
       "<Figure size 640x480 with 1 Axes>"
      ]
     },
     "metadata": {},
     "output_type": "display_data"
    }
   ],
   "source": [
    "#Representación grafica de la distribución de los datos\n",
    "plt.hist(data.Survived)"
   ]
  },
  {
   "cell_type": "markdown",
   "id": "b92eaa00-3974-4dbd-bb43-0c3fd8ac5522",
   "metadata": {},
   "source": [
    "**Representación grafica del número de pesajeros que sobrevivio al naufragio (0 -> No sobrevivió, 1 -> Sobrevivió)**"
   ]
  },
  {
   "cell_type": "code",
   "execution_count": 1037,
   "id": "e7e8d567-a11e-4367-9e50-5f2c39db2ca6",
   "metadata": {},
   "outputs": [
    {
     "data": {
      "text/plain": [
       "<Axes: xlabel='Age', ylabel='Fare'>"
      ]
     },
     "execution_count": 1037,
     "metadata": {},
     "output_type": "execute_result"
    },
    {
     "data": {
      "image/png": "[encoded data removed]",
      "text/plain": [
       "<Figure size 640x480 with 1 Axes>"
      ]
     },
     "metadata": {},
     "output_type": "display_data"
    }
   ],
   "source": [
    "#Grafico de dispersión\n",
    "sns.scatterplot(x = \"Age\", y = \"Fare\", hue = \"Survived\", data = data)"
   ]
  },
  {
   "cell_type": "markdown",
   "id": "5aa217b0-f3cf-4e9d-93bd-02e70ca65f3f",
   "metadata": {},
   "source": [
    "**Los puntos entre si cuentan con una gran proximidad unos entre otros ya que en terminos generales el promedio del precio pagado por billete es de 32**"
   ]
  },
  {
   "cell_type": "markdown",
   "id": "fbf1b96f-6f12-4774-a0cd-f816ec3ff874",
   "metadata": {},
   "source": [
    "**Hay una clara concentración de puntos azules entre el rango de edad 20-50, considerando que se encuentran en la escala mas baja en cuanto a precio pagado por billete se podria inferir que en su mayoria este conjunto de pasajeros pertenecen a tercera clase**"
   ]
  },
  {
   "cell_type": "markdown",
   "id": "0e1140e6-35e5-4ccc-bc3c-7d87d00d154f",
   "metadata": {},
   "source": [
    "**Otra conclusión a partir de la gráfica se da al examinar el número de supervivientes al comparar precios, a mayor precio pagado por billete existe una tendencia de mayor probabilidad a no morir ahogado en terribles condiciones**"
   ]
  },
  {
   "cell_type": "code",
   "execution_count": 1038,
   "id": "52bef991-ad3f-4d64-b323-9ac128a75518",
   "metadata": {},
   "outputs": [],
   "source": [
    "#Columnas utilizadas como predictores\n",
    "predictors_col = [\"Pclass\", \"Age\", \"SibSp\", \"Parch\", \"Fare\"]\n",
    "target_col = ['Survived']"
   ]
  },
  {
   "cell_type": "code",
   "execution_count": 1039,
   "id": "4b954522-189f-4a8a-9833-41f7fbc8fce0",
   "metadata": {},
   "outputs": [],
   "source": [
    "data['Sex_Numeric'] = data['Sex'].factorize()[0]\n",
    "predictors_col.append('Sex_Numeric')"
   ]
  },
  {
   "cell_type": "markdown",
   "id": "8edb8bf2-0176-46b5-b943-842e08f8d407",
   "metadata": {},
   "source": [
    "**Considerando que la columna correspondiente a la caracteristica Sex es de tipo string, 0 pasa a ser genero masculino y 1 genero femenino**"
   ]
  },
  {
   "cell_type": "code",
   "execution_count": 1040,
   "id": "640f9717-f992-449a-a320-d44ca61e7cec",
   "metadata": {},
   "outputs": [],
   "source": [
    "predictors = data[predictors_col]\n",
    "target = data[target_col]"
   ]
  },
  {
   "cell_type": "code",
   "execution_count": 1041,
   "id": "528783d4-b431-406f-8e2e-41cd32bd7f2a",
   "metadata": {},
   "outputs": [
    {
     "data": {
      "text/html": [
       "<div>\n",
       "<style scoped>\n",
       "    .dataframe tbody tr th:only-of-type {\n",
       "        vertical-align: middle;\n",
       "    }\n",
       "\n",
       "    .dataframe tbody tr th {\n",
       "        vertical-align: top;\n",
       "    }\n",
       "\n",
       "    .dataframe thead th {\n",
       "        text-align: right;\n",
       "    }\n",
       "</style>\n",
       "<table border=\"1\" class=\"dataframe\">\n",
       "  <thead>\n",
       "    <tr style=\"text-align: right;\">\n",
       "      <th></th>\n",
       "      <th>Pclass</th>\n",
       "      <th>Age</th>\n",
       "      <th>SibSp</th>\n",
       "      <th>Parch</th>\n",
       "      <th>Fare</th>\n",
       "      <th>Sex_Numeric</th>\n",
       "    </tr>\n",
       "  </thead>\n",
       "  <tbody>\n",
       "    <tr>\n",
       "      <th>0</th>\n",
       "      <td>3</td>\n",
       "      <td>22.0</td>\n",
       "      <td>1</td>\n",
       "      <td>0</td>\n",
       "      <td>7.2500</td>\n",
       "      <td>0</td>\n",
       "    </tr>\n",
       "    <tr>\n",
       "      <th>1</th>\n",
       "      <td>1</td>\n",
       "      <td>38.0</td>\n",
       "      <td>1</td>\n",
       "      <td>0</td>\n",
       "      <td>71.2833</td>\n",
       "      <td>1</td>\n",
       "    </tr>\n",
       "    <tr>\n",
       "      <th>2</th>\n",
       "      <td>3</td>\n",
       "      <td>26.0</td>\n",
       "      <td>0</td>\n",
       "      <td>0</td>\n",
       "      <td>7.9250</td>\n",
       "      <td>1</td>\n",
       "    </tr>\n",
       "    <tr>\n",
       "      <th>3</th>\n",
       "      <td>1</td>\n",
       "      <td>35.0</td>\n",
       "      <td>1</td>\n",
       "      <td>0</td>\n",
       "      <td>53.1000</td>\n",
       "      <td>1</td>\n",
       "    </tr>\n",
       "    <tr>\n",
       "      <th>4</th>\n",
       "      <td>3</td>\n",
       "      <td>35.0</td>\n",
       "      <td>0</td>\n",
       "      <td>0</td>\n",
       "      <td>8.0500</td>\n",
       "      <td>0</td>\n",
       "    </tr>\n",
       "    <tr>\n",
       "      <th>...</th>\n",
       "      <td>...</td>\n",
       "      <td>...</td>\n",
       "      <td>...</td>\n",
       "      <td>...</td>\n",
       "      <td>...</td>\n",
       "      <td>...</td>\n",
       "    </tr>\n",
       "    <tr>\n",
       "      <th>886</th>\n",
       "      <td>2</td>\n",
       "      <td>27.0</td>\n",
       "      <td>0</td>\n",
       "      <td>0</td>\n",
       "      <td>13.0000</td>\n",
       "      <td>0</td>\n",
       "    </tr>\n",
       "    <tr>\n",
       "      <th>887</th>\n",
       "      <td>1</td>\n",
       "      <td>19.0</td>\n",
       "      <td>0</td>\n",
       "      <td>0</td>\n",
       "      <td>30.0000</td>\n",
       "      <td>1</td>\n",
       "    </tr>\n",
       "    <tr>\n",
       "      <th>888</th>\n",
       "      <td>3</td>\n",
       "      <td>0.0</td>\n",
       "      <td>1</td>\n",
       "      <td>2</td>\n",
       "      <td>23.4500</td>\n",
       "      <td>1</td>\n",
       "    </tr>\n",
       "    <tr>\n",
       "      <th>889</th>\n",
       "      <td>1</td>\n",
       "      <td>26.0</td>\n",
       "      <td>0</td>\n",
       "      <td>0</td>\n",
       "      <td>30.0000</td>\n",
       "      <td>0</td>\n",
       "    </tr>\n",
       "    <tr>\n",
       "      <th>890</th>\n",
       "      <td>3</td>\n",
       "      <td>32.0</td>\n",
       "      <td>0</td>\n",
       "      <td>0</td>\n",
       "      <td>7.7500</td>\n",
       "      <td>0</td>\n",
       "    </tr>\n",
       "  </tbody>\n",
       "</table>\n",
       "<p>891 rows × 6 columns</p>\n",
       "</div>"
      ],
      "text/plain": [
       "     Pclass   Age  SibSp  Parch     Fare  Sex_Numeric\n",
       "0         3  22.0      1      0   7.2500            0\n",
       "1         1  38.0      1      0  71.2833            1\n",
       "2         3  26.0      0      0   7.9250            1\n",
       "3         1  35.0      1      0  53.1000            1\n",
       "4         3  35.0      0      0   8.0500            0\n",
       "..      ...   ...    ...    ...      ...          ...\n",
       "886       2  27.0      0      0  13.0000            0\n",
       "887       1  19.0      0      0  30.0000            1\n",
       "888       3   0.0      1      2  23.4500            1\n",
       "889       1  26.0      0      0  30.0000            0\n",
       "890       3  32.0      0      0   7.7500            0\n",
       "\n",
       "[891 rows x 6 columns]"
      ]
     },
     "execution_count": 1041,
     "metadata": {},
     "output_type": "execute_result"
    }
   ],
   "source": [
    "#Ejecutamos\n",
    "predictors"
   ]
  },
  {
   "cell_type": "code",
   "execution_count": 1042,
   "id": "2bf008c7-1201-4ad5-b2f1-7ad385cf534d",
   "metadata": {},
   "outputs": [
    {
     "data": {
      "text/html": [
       "<div>\n",
       "<style scoped>\n",
       "    .dataframe tbody tr th:only-of-type {\n",
       "        vertical-align: middle;\n",
       "    }\n",
       "\n",
       "    .dataframe tbody tr th {\n",
       "        vertical-align: top;\n",
       "    }\n",
       "\n",
       "    .dataframe thead th {\n",
       "        text-align: right;\n",
       "    }\n",
       "</style>\n",
       "<table border=\"1\" class=\"dataframe\">\n",
       "  <thead>\n",
       "    <tr style=\"text-align: right;\">\n",
       "      <th></th>\n",
       "      <th>Survived</th>\n",
       "    </tr>\n",
       "  </thead>\n",
       "  <tbody>\n",
       "    <tr>\n",
       "      <th>0</th>\n",
       "      <td>0</td>\n",
       "    </tr>\n",
       "    <tr>\n",
       "      <th>1</th>\n",
       "      <td>1</td>\n",
       "    </tr>\n",
       "    <tr>\n",
       "      <th>2</th>\n",
       "      <td>1</td>\n",
       "    </tr>\n",
       "    <tr>\n",
       "      <th>3</th>\n",
       "      <td>1</td>\n",
       "    </tr>\n",
       "    <tr>\n",
       "      <th>4</th>\n",
       "      <td>0</td>\n",
       "    </tr>\n",
       "    <tr>\n",
       "      <th>...</th>\n",
       "      <td>...</td>\n",
       "    </tr>\n",
       "    <tr>\n",
       "      <th>886</th>\n",
       "      <td>0</td>\n",
       "    </tr>\n",
       "    <tr>\n",
       "      <th>887</th>\n",
       "      <td>1</td>\n",
       "    </tr>\n",
       "    <tr>\n",
       "      <th>888</th>\n",
       "      <td>0</td>\n",
       "    </tr>\n",
       "    <tr>\n",
       "      <th>889</th>\n",
       "      <td>1</td>\n",
       "    </tr>\n",
       "    <tr>\n",
       "      <th>890</th>\n",
       "      <td>0</td>\n",
       "    </tr>\n",
       "  </tbody>\n",
       "</table>\n",
       "<p>891 rows × 1 columns</p>\n",
       "</div>"
      ],
      "text/plain": [
       "     Survived\n",
       "0           0\n",
       "1           1\n",
       "2           1\n",
       "3           1\n",
       "4           0\n",
       "..        ...\n",
       "886         0\n",
       "887         1\n",
       "888         0\n",
       "889         1\n",
       "890         0\n",
       "\n",
       "[891 rows x 1 columns]"
      ]
     },
     "execution_count": 1042,
     "metadata": {},
     "output_type": "execute_result"
    }
   ],
   "source": [
    "#Ejecutamos\n",
    "target"
   ]
  },
  {
   "cell_type": "code",
   "execution_count": 1043,
   "id": "2afc3339-586b-4b74-87cc-b8f58b761732",
   "metadata": {},
   "outputs": [
    {
     "data": {
      "text/html": [
       "<div>\n",
       "<style scoped>\n",
       "    .dataframe tbody tr th:only-of-type {\n",
       "        vertical-align: middle;\n",
       "    }\n",
       "\n",
       "    .dataframe tbody tr th {\n",
       "        vertical-align: top;\n",
       "    }\n",
       "\n",
       "    .dataframe thead th {\n",
       "        text-align: right;\n",
       "    }\n",
       "</style>\n",
       "<table border=\"1\" class=\"dataframe\">\n",
       "  <thead>\n",
       "    <tr style=\"text-align: right;\">\n",
       "      <th></th>\n",
       "      <th>Pclass</th>\n",
       "      <th>Age</th>\n",
       "      <th>SibSp</th>\n",
       "      <th>Parch</th>\n",
       "      <th>Fare</th>\n",
       "      <th>Sex_Numeric</th>\n",
       "    </tr>\n",
       "  </thead>\n",
       "  <tbody>\n",
       "    <tr>\n",
       "      <th>Pclass</th>\n",
       "      <td>1.000000</td>\n",
       "      <td>-0.361353</td>\n",
       "      <td>0.083081</td>\n",
       "      <td>0.018443</td>\n",
       "      <td>-0.549500</td>\n",
       "      <td>-0.131900</td>\n",
       "    </tr>\n",
       "    <tr>\n",
       "      <th>Age</th>\n",
       "      <td>-0.361353</td>\n",
       "      <td>1.000000</td>\n",
       "      <td>-0.184664</td>\n",
       "      <td>-0.048786</td>\n",
       "      <td>0.135516</td>\n",
       "      <td>-0.024978</td>\n",
       "    </tr>\n",
       "    <tr>\n",
       "      <th>SibSp</th>\n",
       "      <td>0.083081</td>\n",
       "      <td>-0.184664</td>\n",
       "      <td>1.000000</td>\n",
       "      <td>0.414838</td>\n",
       "      <td>0.159651</td>\n",
       "      <td>0.114631</td>\n",
       "    </tr>\n",
       "    <tr>\n",
       "      <th>Parch</th>\n",
       "      <td>0.018443</td>\n",
       "      <td>-0.048786</td>\n",
       "      <td>0.414838</td>\n",
       "      <td>1.000000</td>\n",
       "      <td>0.216225</td>\n",
       "      <td>0.245489</td>\n",
       "    </tr>\n",
       "    <tr>\n",
       "      <th>Fare</th>\n",
       "      <td>-0.549500</td>\n",
       "      <td>0.135516</td>\n",
       "      <td>0.159651</td>\n",
       "      <td>0.216225</td>\n",
       "      <td>1.000000</td>\n",
       "      <td>0.182333</td>\n",
       "    </tr>\n",
       "    <tr>\n",
       "      <th>Sex_Numeric</th>\n",
       "      <td>-0.131900</td>\n",
       "      <td>-0.024978</td>\n",
       "      <td>0.114631</td>\n",
       "      <td>0.245489</td>\n",
       "      <td>0.182333</td>\n",
       "      <td>1.000000</td>\n",
       "    </tr>\n",
       "  </tbody>\n",
       "</table>\n",
       "</div>"
      ],
      "text/plain": [
       "               Pclass       Age     SibSp     Parch      Fare  Sex_Numeric\n",
       "Pclass       1.000000 -0.361353  0.083081  0.018443 -0.549500    -0.131900\n",
       "Age         -0.361353  1.000000 -0.184664 -0.048786  0.135516    -0.024978\n",
       "SibSp        0.083081 -0.184664  1.000000  0.414838  0.159651     0.114631\n",
       "Parch        0.018443 -0.048786  0.414838  1.000000  0.216225     0.245489\n",
       "Fare        -0.549500  0.135516  0.159651  0.216225  1.000000     0.182333\n",
       "Sex_Numeric -0.131900 -0.024978  0.114631  0.245489  0.182333     1.000000"
      ]
     },
     "execution_count": 1043,
     "metadata": {},
     "output_type": "execute_result"
    }
   ],
   "source": [
    "#Hallar la correlación de las columnas seleccionadas\n",
    "corr = predictors.corr()\n",
    "corr"
   ]
  },
  {
   "cell_type": "markdown",
   "id": "f4c8a60e-dead-406f-8ec3-5d18c29c5a10",
   "metadata": {},
   "source": [
    "**Mediremos las correlación de las variables en base a sus coeficientes, mientras más cercano se encuentre el valor a 1, más alta su asociación, en cambio un valor cercano a cero expresa una mayor dispersión**"
   ]
  },
  {
   "cell_type": "markdown",
   "id": "376a1485-ebb4-442e-afac-8691f2025388",
   "metadata": {},
   "source": [
    "**Valores cercanos a 1 → Alta correlación directa (directamente proporcional), Valores cercano a -1 → Alta correlación inversa (inversamente proporcional), Valores iguales a 0 → Nula correlación**"
   ]
  },
  {
   "cell_type": "markdown",
   "id": "c9c7430e-86da-4611-802e-04f039714955",
   "metadata": {},
   "source": [
    "**Ejemplo: El coeficiente de correlación entre el precio pagado por el billete y el sexo de cada pasagero es de 0.182333, lo que evidencia una correlación casi que nula, en otras palabras se podria asumir que el genero no influyó en el precio a pagado por billete**"
   ]
  },
  {
   "cell_type": "code",
   "execution_count": 1044,
   "id": "c077fd60-1045-4cd5-8de0-7692538760de",
   "metadata": {},
   "outputs": [
    {
     "data": {
      "image/png": "[encoded data removed]",
      "text/plain": [
       "<Figure size 640x480 with 2 Axes>"
      ]
     },
     "metadata": {},
     "output_type": "display_data"
    }
   ],
   "source": [
    "#Generación de mapa de calor para facilitar la comprensión de la tabla anterior\n",
    "sns.heatmap (corr)\n",
    "plt.show()"
   ]
  },
  {
   "cell_type": "markdown",
   "id": "72e8bf64-0225-4e36-bba8-4fd68c630978",
   "metadata": {},
   "source": [
    "**Mismos datos representados en diferente forma**"
   ]
  },
  {
   "cell_type": "code",
   "execution_count": 1045,
   "id": "045042fd-1315-4a01-af95-e37a802da72f",
   "metadata": {},
   "outputs": [],
   "source": [
    "#Finalizamos el análisis general, damos paso a la ejecución del modelo seleccionado (Árboles de decisión) → División en bloques del conjunto de datos\n",
    "X_train, X_test, Y_train, Y_test = train_test_split(predictors, target, test_size=0.1, random_state=13)"
   ]
  },
  {
   "cell_type": "code",
   "execution_count": 1046,
   "id": "72fbd8bb-41b6-4a10-a7ba-2c8742119d08",
   "metadata": {},
   "outputs": [],
   "source": [
    "tree = DecisionTreeClassifier()"
   ]
  },
  {
   "cell_type": "code",
   "execution_count": 1047,
   "id": "f7ca556e-21d3-4b1d-867b-daf130693d6f",
   "metadata": {},
   "outputs": [],
   "source": [
    "#Geneción diagrama de arbol, selección de datos\n",
    "arbol = tree.fit(X_train, Y_train)"
   ]
  },
  {
   "cell_type": "code",
   "execution_count": 1048,
   "id": "1ed5c147-9a5f-458a-857d-99069dff43b5",
   "metadata": {},
   "outputs": [
    {
     "data": {
      "text/plain": [
       "[Text(0.573031190248566, 0.9761904761904762, 'x[5] <= 0.5\\ngini = 0.475\\nsamples = 801\\nvalue = [490, 311]'),\n",
       " Text(0.3867411567877629, 0.9285714285714286, 'x[4] <= 26.269\\ngini = 0.315\\nsamples = 520\\nvalue = [418, 102]'),\n",
       " Text(0.2835205544933078, 0.8809523809523809, 'x[3] <= 0.5\\ngini = 0.231\\nsamples = 367\\nvalue = [318, 49]'),\n",
       " Text(0.2343451242829828, 0.8333333333333334, 'x[1] <= 32.5\\ngini = 0.191\\nsamples = 336\\nvalue = [300, 36]'),\n",
       " Text(0.1818833652007648, 0.7857142857142857, 'x[1] <= 30.75\\ngini = 0.219\\nsamples = 248\\nvalue = [217, 31]'),\n",
       " Text(0.12667304015296368, 0.7380952380952381, 'x[1] <= 24.75\\ngini = 0.189\\nsamples = 236\\nvalue = [211, 25]'),\n",
       " Text(0.08891013384321224, 0.6904761904761905, 'x[2] <= 0.5\\ngini = 0.166\\nsamples = 175\\nvalue = [159, 16]'),\n",
       " Text(0.05927342256214149, 0.6428571428571429, 'x[4] <= 7.133\\ngini = 0.149\\nsamples = 160\\nvalue = [147, 13]'),\n",
       " Text(0.05162523900573614, 0.5952380952380952, 'gini = 0.0\\nsamples = 15\\nvalue = [15, 0]'),\n",
       " Text(0.06692160611854685, 0.5952380952380952, 'x[4] <= 7.183\\ngini = 0.163\\nsamples = 145\\nvalue = [132, 13]'),\n",
       " Text(0.05927342256214149, 0.5476190476190477, 'gini = 0.0\\nsamples = 1\\nvalue = [0, 1]'),\n",
       " Text(0.0745697896749522, 0.5476190476190477, 'x[4] <= 7.24\\ngini = 0.153\\nsamples = 144\\nvalue = [132, 12]'),\n",
       " Text(0.030592734225621414, 0.5, 'x[1] <= 10.0\\ngini = 0.32\\nsamples = 15\\nvalue = [12, 3]'),\n",
       " Text(0.015296367112810707, 0.4523809523809524, 'x[4] <= 7.227\\ngini = 0.165\\nsamples = 11\\nvalue = [10, 1]'),\n",
       " Text(0.0076481835564053535, 0.40476190476190477, 'gini = 0.0\\nsamples = 5\\nvalue = [5, 0]'),\n",
       " Text(0.022944550669216062, 0.40476190476190477, 'gini = 0.278\\nsamples = 6\\nvalue = [5, 1]'),\n",
       " Text(0.045889101338432124, 0.4523809523809524, 'x[1] <= 21.0\\ngini = 0.5\\nsamples = 4\\nvalue = [2, 2]'),\n",
       " Text(0.03824091778202677, 0.40476190476190477, 'gini = 0.0\\nsamples = 1\\nvalue = [0, 1]'),\n",
       " Text(0.05353728489483748, 0.40476190476190477, 'x[4] <= 7.227\\ngini = 0.444\\nsamples = 3\\nvalue = [2, 1]'),\n",
       " Text(0.045889101338432124, 0.35714285714285715, 'gini = 0.0\\nsamples = 1\\nvalue = [0, 1]'),\n",
       " Text(0.06118546845124283, 0.35714285714285715, 'gini = 0.0\\nsamples = 2\\nvalue = [2, 0]'),\n",
       " Text(0.11854684512428298, 0.5, 'x[1] <= 19.5\\ngini = 0.13\\nsamples = 129\\nvalue = [120, 9]'),\n",
       " Text(0.11089866156787763, 0.4523809523809524, 'x[0] <= 2.5\\ngini = 0.182\\nsamples = 89\\nvalue = [80, 9]'),\n",
       " Text(0.0841300191204589, 0.40476190476190477, 'x[4] <= 14.456\\ngini = 0.355\\nsamples = 13\\nvalue = [10, 3]'),\n",
       " Text(0.07648183556405354, 0.35714285714285715, 'x[1] <= 8.0\\ngini = 0.444\\nsamples = 9\\nvalue = [6, 3]'),\n",
       " Text(0.06883365200764818, 0.30952380952380953, 'gini = 0.0\\nsamples = 2\\nvalue = [0, 2]'),\n",
       " Text(0.0841300191204589, 0.30952380952380953, 'x[4] <= 11.0\\ngini = 0.245\\nsamples = 7\\nvalue = [6, 1]'),\n",
       " Text(0.07648183556405354, 0.2619047619047619, 'x[1] <= 17.5\\ngini = 0.444\\nsamples = 3\\nvalue = [2, 1]'),\n",
       " Text(0.06883365200764818, 0.21428571428571427, 'gini = 0.0\\nsamples = 1\\nvalue = [1, 0]'),\n",
       " Text(0.0841300191204589, 0.21428571428571427, 'gini = 0.5\\nsamples = 2\\nvalue = [1, 1]'),\n",
       " Text(0.09177820267686425, 0.2619047619047619, 'gini = 0.0\\nsamples = 4\\nvalue = [4, 0]'),\n",
       " Text(0.09177820267686425, 0.35714285714285715, 'gini = 0.0\\nsamples = 4\\nvalue = [4, 0]'),\n",
       " Text(0.13766730401529637, 0.40476190476190477, 'x[4] <= 8.135\\ngini = 0.145\\nsamples = 76\\nvalue = [70, 6]'),\n",
       " Text(0.13001912045889102, 0.35714285714285715, 'x[4] <= 8.081\\ngini = 0.188\\nsamples = 57\\nvalue = [51, 6]'),\n",
       " Text(0.12237093690248566, 0.30952380952380953, 'x[1] <= 8.0\\ngini = 0.163\\nsamples = 56\\nvalue = [51, 5]'),\n",
       " Text(0.10707456978967496, 0.2619047619047619, 'x[4] <= 7.802\\ngini = 0.089\\nsamples = 43\\nvalue = [41, 2]'),\n",
       " Text(0.0994263862332696, 0.21428571428571427, 'x[4] <= 7.763\\ngini = 0.208\\nsamples = 17\\nvalue = [15, 2]'),\n",
       " Text(0.09177820267686425, 0.16666666666666666, 'x[4] <= 7.744\\ngini = 0.117\\nsamples = 16\\nvalue = [15, 1]'),\n",
       " Text(0.0841300191204589, 0.11904761904761904, 'gini = 0.0\\nsamples = 7\\nvalue = [7, 0]'),\n",
       " Text(0.0994263862332696, 0.11904761904761904, 'gini = 0.198\\nsamples = 9\\nvalue = [8, 1]'),\n",
       " Text(0.10707456978967496, 0.16666666666666666, 'gini = 0.0\\nsamples = 1\\nvalue = [0, 1]'),\n",
       " Text(0.1147227533460803, 0.21428571428571427, 'gini = 0.0\\nsamples = 26\\nvalue = [26, 0]'),\n",
       " Text(0.13766730401529637, 0.2619047619047619, 'x[4] <= 7.973\\ngini = 0.355\\nsamples = 13\\nvalue = [10, 3]'),\n",
       " Text(0.13001912045889102, 0.21428571428571427, 'gini = 0.0\\nsamples = 8\\nvalue = [8, 0]'),\n",
       " Text(0.14531548757170173, 0.21428571428571427, 'x[1] <= 17.0\\ngini = 0.48\\nsamples = 5\\nvalue = [2, 3]'),\n",
       " Text(0.13766730401529637, 0.16666666666666666, 'gini = 0.5\\nsamples = 2\\nvalue = [1, 1]'),\n",
       " Text(0.15296367112810708, 0.16666666666666666, 'x[1] <= 18.5\\ngini = 0.444\\nsamples = 3\\nvalue = [1, 2]'),\n",
       " Text(0.14531548757170173, 0.11904761904761904, 'gini = 0.0\\nsamples = 1\\nvalue = [0, 1]'),\n",
       " Text(0.16061185468451242, 0.11904761904761904, 'gini = 0.5\\nsamples = 2\\nvalue = [1, 1]'),\n",
       " Text(0.13766730401529637, 0.30952380952380953, 'gini = 0.0\\nsamples = 1\\nvalue = [0, 1]'),\n",
       " Text(0.14531548757170173, 0.35714285714285715, 'gini = 0.0\\nsamples = 19\\nvalue = [19, 0]'),\n",
       " Text(0.12619502868068833, 0.4523809523809524, 'gini = 0.0\\nsamples = 40\\nvalue = [40, 0]'),\n",
       " Text(0.11854684512428298, 0.6428571428571429, 'x[4] <= 13.371\\ngini = 0.32\\nsamples = 15\\nvalue = [12, 3]'),\n",
       " Text(0.10325047801147227, 0.5952380952380952, 'x[4] <= 7.838\\ngini = 0.48\\nsamples = 5\\nvalue = [3, 2]'),\n",
       " Text(0.09560229445506692, 0.5476190476190477, 'gini = 0.0\\nsamples = 3\\nvalue = [3, 0]'),\n",
       " Text(0.11089866156787763, 0.5476190476190477, 'gini = 0.0\\nsamples = 2\\nvalue = [0, 2]'),\n",
       " Text(0.1338432122370937, 0.5952380952380952, 'x[4] <= 22.465\\ngini = 0.18\\nsamples = 10\\nvalue = [9, 1]'),\n",
       " Text(0.12619502868068833, 0.5476190476190477, 'gini = 0.0\\nsamples = 7\\nvalue = [7, 0]'),\n",
       " Text(0.14149139579349904, 0.5476190476190477, 'x[4] <= 23.7\\ngini = 0.444\\nsamples = 3\\nvalue = [2, 1]'),\n",
       " Text(0.1338432122370937, 0.5, 'gini = 0.0\\nsamples = 1\\nvalue = [0, 1]'),\n",
       " Text(0.1491395793499044, 0.5, 'gini = 0.0\\nsamples = 2\\nvalue = [2, 0]'),\n",
       " Text(0.16443594646271512, 0.6904761904761905, 'x[4] <= 7.013\\ngini = 0.252\\nsamples = 61\\nvalue = [52, 9]'),\n",
       " Text(0.15678776290630975, 0.6428571428571429, 'gini = 0.0\\nsamples = 2\\nvalue = [0, 2]'),\n",
       " Text(0.17208413001912046, 0.6428571428571429, 'x[0] <= 2.5\\ngini = 0.209\\nsamples = 59\\nvalue = [52, 7]'),\n",
       " Text(0.16443594646271512, 0.5952380952380952, 'gini = 0.0\\nsamples = 16\\nvalue = [16, 0]'),\n",
       " Text(0.17973231357552583, 0.5952380952380952, 'x[4] <= 7.746\\ngini = 0.273\\nsamples = 43\\nvalue = [36, 7]'),\n",
       " Text(0.17208413001912046, 0.5476190476190477, 'gini = 0.0\\nsamples = 10\\nvalue = [10, 0]'),\n",
       " Text(0.18738049713193117, 0.5476190476190477, 'x[4] <= 7.763\\ngini = 0.334\\nsamples = 33\\nvalue = [26, 7]'),\n",
       " Text(0.17973231357552583, 0.5, 'gini = 0.0\\nsamples = 1\\nvalue = [0, 1]'),\n",
       " Text(0.1950286806883365, 0.5, 'x[4] <= 7.825\\ngini = 0.305\\nsamples = 32\\nvalue = [26, 6]'),\n",
       " Text(0.17590822179732313, 0.4523809523809524, 'x[1] <= 27.5\\ngini = 0.48\\nsamples = 5\\nvalue = [3, 2]'),\n",
       " Text(0.1682600382409178, 0.40476190476190477, 'x[2] <= 0.5\\ngini = 0.444\\nsamples = 3\\nvalue = [1, 2]'),\n",
       " Text(0.16061185468451242, 0.35714285714285715, 'x[4] <= 7.785\\ngini = 0.5\\nsamples = 2\\nvalue = [1, 1]'),\n",
       " Text(0.15296367112810708, 0.30952380952380953, 'gini = 0.0\\nsamples = 1\\nvalue = [1, 0]'),\n",
       " Text(0.1682600382409178, 0.30952380952380953, 'gini = 0.0\\nsamples = 1\\nvalue = [0, 1]'),\n",
       " Text(0.17590822179732313, 0.35714285714285715, 'gini = 0.0\\nsamples = 1\\nvalue = [0, 1]'),\n",
       " Text(0.1835564053537285, 0.40476190476190477, 'gini = 0.0\\nsamples = 2\\nvalue = [2, 0]'),\n",
       " Text(0.21414913957934992, 0.4523809523809524, 'x[4] <= 18.294\\ngini = 0.252\\nsamples = 27\\nvalue = [23, 4]'),\n",
       " Text(0.1988527724665392, 0.40476190476190477, 'x[1] <= 26.5\\ngini = 0.211\\nsamples = 25\\nvalue = [22, 3]'),\n",
       " Text(0.19120458891013384, 0.35714285714285715, 'gini = 0.0\\nsamples = 8\\nvalue = [8, 0]'),\n",
       " Text(0.20650095602294455, 0.35714285714285715, 'x[1] <= 27.5\\ngini = 0.291\\nsamples = 17\\nvalue = [14, 3]'),\n",
       " Text(0.19120458891013384, 0.30952380952380953, 'x[4] <= 11.558\\ngini = 0.5\\nsamples = 2\\nvalue = [1, 1]'),\n",
       " Text(0.1835564053537285, 0.2619047619047619, 'gini = 0.0\\nsamples = 1\\nvalue = [0, 1]'),\n",
       " Text(0.1988527724665392, 0.2619047619047619, 'gini = 0.0\\nsamples = 1\\nvalue = [1, 0]'),\n",
       " Text(0.22179732313575526, 0.30952380952380953, 'x[1] <= 28.5\\ngini = 0.231\\nsamples = 15\\nvalue = [13, 2]'),\n",
       " Text(0.21414913957934992, 0.2619047619047619, 'gini = 0.0\\nsamples = 6\\nvalue = [6, 0]'),\n",
       " Text(0.2294455066921606, 0.2619047619047619, 'x[1] <= 29.5\\ngini = 0.346\\nsamples = 9\\nvalue = [7, 2]'),\n",
       " Text(0.22179732313575526, 0.21428571428571427, 'x[4] <= 9.492\\ngini = 0.48\\nsamples = 5\\nvalue = [3, 2]'),\n",
       " Text(0.21414913957934992, 0.16666666666666666, 'x[4] <= 7.973\\ngini = 0.375\\nsamples = 4\\nvalue = [3, 1]'),\n",
       " Text(0.20650095602294455, 0.11904761904761904, 'x[4] <= 7.885\\ngini = 0.5\\nsamples = 2\\nvalue = [1, 1]'),\n",
       " Text(0.1988527724665392, 0.07142857142857142, 'gini = 0.0\\nsamples = 1\\nvalue = [1, 0]'),\n",
       " Text(0.21414913957934992, 0.07142857142857142, 'gini = 0.0\\nsamples = 1\\nvalue = [0, 1]'),\n",
       " Text(0.22179732313575526, 0.11904761904761904, 'gini = 0.0\\nsamples = 2\\nvalue = [2, 0]'),\n",
       " Text(0.2294455066921606, 0.16666666666666666, 'gini = 0.0\\nsamples = 1\\nvalue = [0, 1]'),\n",
       " Text(0.23709369024856597, 0.21428571428571427, 'gini = 0.0\\nsamples = 4\\nvalue = [4, 0]'),\n",
       " Text(0.2294455066921606, 0.40476190476190477, 'x[1] <= 27.0\\ngini = 0.5\\nsamples = 2\\nvalue = [1, 1]'),\n",
       " Text(0.22179732313575526, 0.35714285714285715, 'gini = 0.0\\nsamples = 1\\nvalue = [0, 1]'),\n",
       " Text(0.23709369024856597, 0.35714285714285715, 'gini = 0.0\\nsamples = 1\\nvalue = [1, 0]'),\n",
       " Text(0.23709369024856597, 0.7380952380952381, 'x[4] <= 7.815\\ngini = 0.5\\nsamples = 12\\nvalue = [6, 6]'),\n",
       " Text(0.2294455066921606, 0.6904761904761905, 'gini = 0.0\\nsamples = 2\\nvalue = [2, 0]'),\n",
       " Text(0.2447418738049713, 0.6904761904761905, 'x[4] <= 11.75\\ngini = 0.48\\nsamples = 10\\nvalue = [4, 6]'),\n",
       " Text(0.23709369024856597, 0.6428571428571429, 'x[4] <= 8.206\\ngini = 0.5\\nsamples = 8\\nvalue = [4, 4]'),\n",
       " Text(0.2294455066921606, 0.5952380952380952, 'x[1] <= 31.5\\ngini = 0.444\\nsamples = 6\\nvalue = [2, 4]'),\n",
       " Text(0.22179732313575526, 0.5476190476190477, 'gini = 0.0\\nsamples = 1\\nvalue = [0, 1]'),\n",
       " Text(0.23709369024856597, 0.5476190476190477, 'x[4] <= 7.875\\ngini = 0.48\\nsamples = 5\\nvalue = [2, 3]'),\n",
       " Text(0.2294455066921606, 0.5, 'gini = 0.0\\nsamples = 1\\nvalue = [0, 1]'),\n",
       " Text(0.2447418738049713, 0.5, 'x[4] <= 7.91\\ngini = 0.5\\nsamples = 4\\nvalue = [2, 2]'),\n",
       " Text(0.23709369024856597, 0.4523809523809524, 'gini = 0.0\\nsamples = 1\\nvalue = [1, 0]'),\n",
       " Text(0.25239005736137665, 0.4523809523809524, 'x[4] <= 7.988\\ngini = 0.444\\nsamples = 3\\nvalue = [1, 2]'),\n",
       " Text(0.2447418738049713, 0.40476190476190477, 'gini = 0.5\\nsamples = 2\\nvalue = [1, 1]'),\n",
       " Text(0.26003824091778205, 0.40476190476190477, 'gini = 0.0\\nsamples = 1\\nvalue = [0, 1]'),\n",
       " Text(0.2447418738049713, 0.5952380952380952, 'gini = 0.0\\nsamples = 2\\nvalue = [2, 0]'),\n",
       " Text(0.25239005736137665, 0.6428571428571429, 'gini = 0.0\\nsamples = 2\\nvalue = [0, 2]'),\n",
       " Text(0.28680688336520077, 0.7857142857142857, 'x[1] <= 38.5\\ngini = 0.107\\nsamples = 88\\nvalue = [83, 5]'),\n",
       " Text(0.27915869980879543, 0.7380952380952381, 'gini = 0.0\\nsamples = 34\\nvalue = [34, 0]'),\n",
       " Text(0.2944550669216061, 0.7380952380952381, 'x[1] <= 45.25\\ngini = 0.168\\nsamples = 54\\nvalue = [49, 5]'),\n",
       " Text(0.27533460803059273, 0.6904761904761905, 'x[4] <= 7.91\\ngini = 0.287\\nsamples = 23\\nvalue = [19, 4]'),\n",
       " Text(0.2676864244741874, 0.6428571428571429, 'gini = 0.0\\nsamples = 8\\nvalue = [8, 0]'),\n",
       " Text(0.2829827915869981, 0.6428571428571429, 'x[4] <= 7.988\\ngini = 0.391\\nsamples = 15\\nvalue = [11, 4]'),\n",
       " Text(0.2676864244741874, 0.5952380952380952, 'x[1] <= 41.5\\ngini = 0.444\\nsamples = 3\\nvalue = [1, 2]'),\n",
       " Text(0.26003824091778205, 0.5476190476190477, 'gini = 0.5\\nsamples = 2\\nvalue = [1, 1]'),\n",
       " Text(0.27533460803059273, 0.5476190476190477, 'gini = 0.0\\nsamples = 1\\nvalue = [0, 1]'),\n",
       " Text(0.2982791586998088, 0.5952380952380952, 'x[1] <= 44.5\\ngini = 0.278\\nsamples = 12\\nvalue = [10, 2]'),\n",
       " Text(0.29063097514340347, 0.5476190476190477, 'x[1] <= 41.5\\ngini = 0.165\\nsamples = 11\\nvalue = [10, 1]'),\n",
       " Text(0.2829827915869981, 0.5, 'gini = 0.0\\nsamples = 5\\nvalue = [5, 0]'),\n",
       " Text(0.2982791586998088, 0.5, 'x[0] <= 2.5\\ngini = 0.278\\nsamples = 6\\nvalue = [5, 1]'),\n",
       " Text(0.29063097514340347, 0.4523809523809524, 'x[2] <= 0.5\\ngini = 0.444\\nsamples = 3\\nvalue = [2, 1]'),\n",
       " Text(0.2829827915869981, 0.40476190476190477, 'gini = 0.5\\nsamples = 2\\nvalue = [1, 1]'),\n",
       " Text(0.2982791586998088, 0.40476190476190477, 'gini = 0.0\\nsamples = 1\\nvalue = [1, 0]'),\n",
       " Text(0.30592734225621415, 0.4523809523809524, 'gini = 0.0\\nsamples = 3\\nvalue = [3, 0]'),\n",
       " Text(0.30592734225621415, 0.5476190476190477, 'gini = 0.0\\nsamples = 1\\nvalue = [0, 1]'),\n",
       " Text(0.3135755258126195, 0.6904761904761905, 'x[1] <= 61.5\\ngini = 0.062\\nsamples = 31\\nvalue = [30, 1]'),\n",
       " Text(0.30592734225621415, 0.6428571428571429, 'gini = 0.0\\nsamples = 24\\nvalue = [24, 0]'),\n",
       " Text(0.32122370936902483, 0.6428571428571429, 'x[1] <= 63.0\\ngini = 0.245\\nsamples = 7\\nvalue = [6, 1]'),\n",
       " Text(0.3135755258126195, 0.5952380952380952, 'gini = 0.0\\nsamples = 1\\nvalue = [0, 1]'),\n",
       " Text(0.32887189292543023, 0.5952380952380952, 'gini = 0.0\\nsamples = 6\\nvalue = [6, 0]'),\n",
       " Text(0.3326959847036329, 0.8333333333333334, 'x[1] <= 12.0\\ngini = 0.487\\nsamples = 31\\nvalue = [18, 13]'),\n",
       " Text(0.3173996175908222, 0.7857142857142857, 'x[2] <= 2.0\\ngini = 0.245\\nsamples = 14\\nvalue = [2, 12]'),\n",
       " Text(0.30975143403441685, 0.7380952380952381, 'gini = 0.0\\nsamples = 12\\nvalue = [0, 12]'),\n",
       " Text(0.32504780114722753, 0.7380952380952381, 'gini = 0.0\\nsamples = 2\\nvalue = [2, 0]'),\n",
       " Text(0.3479923518164436, 0.7857142857142857, 'x[1] <= 21.5\\ngini = 0.111\\nsamples = 17\\nvalue = [16, 1]'),\n",
       " Text(0.3403441682600382, 0.7380952380952381, 'x[1] <= 19.0\\ngini = 0.278\\nsamples = 6\\nvalue = [5, 1]'),\n",
       " Text(0.3326959847036329, 0.6904761904761905, 'gini = 0.0\\nsamples = 5\\nvalue = [5, 0]'),\n",
       " Text(0.3479923518164436, 0.6904761904761905, 'gini = 0.0\\nsamples = 1\\nvalue = [0, 1]'),\n",
       " Text(0.35564053537284895, 0.7380952380952381, 'gini = 0.0\\nsamples = 11\\nvalue = [11, 0]'),\n",
       " Text(0.48996175908221795, 0.8809523809523809, 'x[2] <= 2.5\\ngini = 0.453\\nsamples = 153\\nvalue = [100, 53]'),\n",
       " Text(0.4483747609942639, 0.8333333333333334, 'x[1] <= 53.0\\ngini = 0.478\\nsamples = 132\\nvalue = [80, 52]'),\n",
       " Text(0.40344168260038243, 0.7857142857142857, 'x[4] <= 26.775\\ngini = 0.493\\nsamples = 111\\nvalue = [62, 49]'),\n",
       " Text(0.37093690248565964, 0.7380952380952381, 'x[1] <= 14.0\\ngini = 0.26\\nsamples = 13\\nvalue = [2, 11]'),\n",
       " Text(0.3632887189292543, 0.6904761904761905, 'gini = 0.5\\nsamples = 2\\nvalue = [1, 1]'),\n",
       " Text(0.37858508604206503, 0.6904761904761905, 'x[1] <= 43.5\\ngini = 0.165\\nsamples = 11\\nvalue = [1, 10]'),\n",
       " Text(0.37093690248565964, 0.6428571428571429, 'gini = 0.0\\nsamples = 7\\nvalue = [0, 7]'),\n",
       " Text(0.3862332695984704, 0.6428571428571429, 'x[1] <= 46.5\\ngini = 0.375\\nsamples = 4\\nvalue = [1, 3]'),\n",
       " Text(0.37858508604206503, 0.5952380952380952, 'gini = 0.5\\nsamples = 2\\nvalue = [1, 1]'),\n",
       " Text(0.3938814531548757, 0.5952380952380952, 'gini = 0.0\\nsamples = 2\\nvalue = [0, 2]'),\n",
       " Text(0.4359464627151052, 0.7380952380952381, 'x[4] <= 28.75\\ngini = 0.475\\nsamples = 98\\nvalue = [60, 38]'),\n",
       " Text(0.42829827915869984, 0.6904761904761905, 'gini = 0.0\\nsamples = 8\\nvalue = [8, 0]'),\n",
       " Text(0.4435946462715105, 0.6904761904761905, 'x[4] <= 30.598\\ngini = 0.488\\nsamples = 90\\nvalue = [52, 38]'),\n",
       " Text(0.4168260038240918, 0.6428571428571429, 'x[2] <= 0.5\\ngini = 0.346\\nsamples = 9\\nvalue = [2, 7]'),\n",
       " Text(0.4091778202676864, 0.5952380952380952, 'x[1] <= 28.0\\ngini = 0.219\\nsamples = 8\\nvalue = [1, 7]'),\n",
       " Text(0.40152963671128106, 0.5476190476190477, 'gini = 0.0\\nsamples = 5\\nvalue = [0, 5]'),\n",
       " Text(0.4168260038240918, 0.5476190476190477, 'x[4] <= 30.25\\ngini = 0.444\\nsamples = 3\\nvalue = [1, 2]'),\n",
       " Text(0.4091778202676864, 0.5, 'gini = 0.0\\nsamples = 1\\nvalue = [1, 0]'),\n",
       " Text(0.42447418738049714, 0.5, 'gini = 0.0\\nsamples = 2\\nvalue = [0, 2]'),\n",
       " Text(0.42447418738049714, 0.5952380952380952, 'gini = 0.0\\nsamples = 1\\nvalue = [1, 0]'),\n",
       " Text(0.47036328871892924, 0.6428571428571429, 'x[4] <= 379.925\\ngini = 0.472\\nsamples = 81\\nvalue = [50, 31]'),\n",
       " Text(0.4627151051625239, 0.5952380952380952, 'x[4] <= 152.506\\ngini = 0.465\\nsamples = 79\\nvalue = [50, 29]'),\n",
       " Text(0.45506692160611856, 0.5476190476190477, 'x[4] <= 115.442\\ngini = 0.477\\nsamples = 74\\nvalue = [45, 29]'),\n",
       " Text(0.4397705544933078, 0.5, 'x[1] <= 49.5\\ngini = 0.462\\nsamples = 69\\nvalue = [44, 25]'),\n",
       " Text(0.4321223709369025, 0.4523809523809524, 'x[1] <= 47.5\\ngini = 0.473\\nsamples = 65\\nvalue = [40, 25]'),\n",
       " Text(0.4168260038240918, 0.40476190476190477, 'x[1] <= 43.0\\ngini = 0.455\\nsamples = 60\\nvalue = [39, 21]'),\n",
       " Text(0.4091778202676864, 0.35714285714285715, 'x[4] <= 52.277\\ngini = 0.482\\nsamples = 52\\nvalue = [31, 21]'),\n",
       " Text(0.3652007648183556, 0.30952380952380953, 'x[4] <= 39.3\\ngini = 0.397\\nsamples = 22\\nvalue = [16, 6]'),\n",
       " Text(0.3575525812619503, 0.2619047619047619, 'x[4] <= 34.938\\ngini = 0.5\\nsamples = 12\\nvalue = [6, 6]'),\n",
       " Text(0.3422562141491396, 0.21428571428571427, 'x[1] <= 39.5\\ngini = 0.278\\nsamples = 6\\nvalue = [5, 1]'),\n",
       " Text(0.33460803059273425, 0.16666666666666666, 'gini = 0.0\\nsamples = 5\\nvalue = [5, 0]'),\n",
       " Text(0.34990439770554493, 0.16666666666666666, 'gini = 0.0\\nsamples = 1\\nvalue = [0, 1]'),\n",
       " Text(0.372848948374761, 0.21428571428571427, 'x[1] <= 29.5\\ngini = 0.278\\nsamples = 6\\nvalue = [1, 5]'),\n",
       " Text(0.3652007648183556, 0.16666666666666666, 'gini = 0.0\\nsamples = 5\\nvalue = [0, 5]'),\n",
       " Text(0.38049713193116635, 0.16666666666666666, 'gini = 0.0\\nsamples = 1\\nvalue = [1, 0]'),\n",
       " Text(0.372848948374761, 0.2619047619047619, 'gini = 0.0\\nsamples = 10\\nvalue = [10, 0]'),\n",
       " Text(0.45315487571701724, 0.30952380952380953, 'x[4] <= 64.979\\ngini = 0.5\\nsamples = 30\\nvalue = [15, 15]'),\n",
       " Text(0.4187380497131931, 0.2619047619047619, 'x[1] <= 21.0\\ngini = 0.408\\nsamples = 14\\nvalue = [4, 10]'),\n",
       " Text(0.40344168260038243, 0.21428571428571427, 'x[4] <= 54.798\\ngini = 0.5\\nsamples = 4\\nvalue = [2, 2]'),\n",
       " Text(0.39579349904397704, 0.16666666666666666, 'gini = 0.0\\nsamples = 1\\nvalue = [1, 0]'),\n",
       " Text(0.4110898661567878, 0.16666666666666666, 'gini = 0.444\\nsamples = 3\\nvalue = [1, 2]'),\n",
       " Text(0.4340344168260038, 0.21428571428571427, 'x[1] <= 27.5\\ngini = 0.32\\nsamples = 10\\nvalue = [2, 8]'),\n",
       " Text(0.42638623326959846, 0.16666666666666666, 'gini = 0.0\\nsamples = 3\\nvalue = [0, 3]'),\n",
       " Text(0.4416826003824092, 0.16666666666666666, 'x[1] <= 29.5\\ngini = 0.408\\nsamples = 7\\nvalue = [2, 5]'),\n",
       " Text(0.4340344168260038, 0.11904761904761904, 'gini = 0.0\\nsamples = 1\\nvalue = [1, 0]'),\n",
       " Text(0.44933078393881454, 0.11904761904761904, 'x[1] <= 34.5\\ngini = 0.278\\nsamples = 6\\nvalue = [1, 5]'),\n",
       " Text(0.4416826003824092, 0.07142857142857142, 'gini = 0.0\\nsamples = 3\\nvalue = [0, 3]'),\n",
       " Text(0.4569789674952199, 0.07142857142857142, 'x[4] <= 52.827\\ngini = 0.444\\nsamples = 3\\nvalue = [1, 2]'),\n",
       " Text(0.44933078393881454, 0.023809523809523808, 'gini = 0.0\\nsamples = 2\\nvalue = [0, 2]'),\n",
       " Text(0.4646271510516252, 0.023809523809523808, 'gini = 0.0\\nsamples = 1\\nvalue = [1, 0]'),\n",
       " Text(0.4875717017208413, 0.2619047619047619, 'x[4] <= 80.529\\ngini = 0.43\\nsamples = 16\\nvalue = [11, 5]'),\n",
       " Text(0.4646271510516252, 0.21428571428571427, 'x[4] <= 75.115\\ngini = 0.18\\nsamples = 10\\nvalue = [9, 1]'),\n",
       " Text(0.4569789674952199, 0.16666666666666666, 'gini = 0.0\\nsamples = 6\\nvalue = [6, 0]'),\n",
       " Text(0.4722753346080306, 0.16666666666666666, 'x[4] <= 77.008\\ngini = 0.375\\nsamples = 4\\nvalue = [3, 1]'),\n",
       " Text(0.4646271510516252, 0.11904761904761904, 'gini = 0.0\\nsamples = 1\\nvalue = [0, 1]'),\n",
       " Text(0.47992351816443596, 0.11904761904761904, 'gini = 0.0\\nsamples = 3\\nvalue = [3, 0]'),\n",
       " Text(0.5105162523900574, 0.21428571428571427, 'x[3] <= 1.0\\ngini = 0.444\\nsamples = 6\\nvalue = [2, 4]'),\n",
       " Text(0.502868068833652, 0.16666666666666666, 'x[1] <= 21.5\\ngini = 0.5\\nsamples = 4\\nvalue = [2, 2]'),\n",
       " Text(0.49521988527724664, 0.11904761904761904, 'gini = 0.0\\nsamples = 1\\nvalue = [1, 0]'),\n",
       " Text(0.5105162523900574, 0.11904761904761904, 'x[4] <= 86.085\\ngini = 0.444\\nsamples = 3\\nvalue = [1, 2]'),\n",
       " Text(0.502868068833652, 0.07142857142857142, 'gini = 0.0\\nsamples = 1\\nvalue = [1, 0]'),\n",
       " Text(0.5181644359464627, 0.07142857142857142, 'gini = 0.0\\nsamples = 2\\nvalue = [0, 2]'),\n",
       " Text(0.5181644359464627, 0.16666666666666666, 'gini = 0.0\\nsamples = 2\\nvalue = [0, 2]'),\n",
       " Text(0.42447418738049714, 0.35714285714285715, 'gini = 0.0\\nsamples = 8\\nvalue = [8, 0]'),\n",
       " Text(0.4474187380497132, 0.40476190476190477, 'x[3] <= 0.5\\ngini = 0.32\\nsamples = 5\\nvalue = [1, 4]'),\n",
       " Text(0.4397705544933078, 0.35714285714285715, 'gini = 0.0\\nsamples = 4\\nvalue = [0, 4]'),\n",
       " Text(0.45506692160611856, 0.35714285714285715, 'gini = 0.0\\nsamples = 1\\nvalue = [1, 0]'),\n",
       " Text(0.4474187380497132, 0.4523809523809524, 'gini = 0.0\\nsamples = 4\\nvalue = [4, 0]'),\n",
       " Text(0.47036328871892924, 0.5, 'x[2] <= 0.5\\ngini = 0.32\\nsamples = 5\\nvalue = [1, 4]'),\n",
       " Text(0.4627151051625239, 0.4523809523809524, 'gini = 0.0\\nsamples = 1\\nvalue = [1, 0]'),\n",
       " Text(0.4780114722753346, 0.4523809523809524, 'gini = 0.0\\nsamples = 4\\nvalue = [0, 4]'),\n",
       " Text(0.47036328871892924, 0.5476190476190477, 'gini = 0.0\\nsamples = 5\\nvalue = [5, 0]'),\n",
       " Text(0.4780114722753346, 0.5952380952380952, 'gini = 0.0\\nsamples = 2\\nvalue = [0, 2]'),\n",
       " Text(0.4933078393881453, 0.7857142857142857, 'x[1] <= 75.5\\ngini = 0.245\\nsamples = 21\\nvalue = [18, 3]'),\n",
       " Text(0.48565965583174, 0.7380952380952381, 'x[4] <= 35.077\\ngini = 0.18\\nsamples = 20\\nvalue = [18, 2]'),\n",
       " Text(0.4780114722753346, 0.6904761904761905, 'gini = 0.0\\nsamples = 11\\nvalue = [11, 0]'),\n",
       " Text(0.4933078393881453, 0.6904761904761905, 'x[4] <= 42.502\\ngini = 0.346\\nsamples = 9\\nvalue = [7, 2]'),\n",
       " Text(0.48565965583174, 0.6428571428571429, 'gini = 0.0\\nsamples = 1\\nvalue = [0, 1]'),\n",
       " Text(0.5009560229445507, 0.6428571428571429, 'x[2] <= 0.5\\ngini = 0.219\\nsamples = 8\\nvalue = [7, 1]'),\n",
       " Text(0.4933078393881453, 0.5952380952380952, 'gini = 0.0\\nsamples = 5\\nvalue = [5, 0]'),\n",
       " Text(0.5086042065009561, 0.5952380952380952, 'x[1] <= 62.0\\ngini = 0.444\\nsamples = 3\\nvalue = [2, 1]'),\n",
       " Text(0.5009560229445507, 0.5476190476190477, 'gini = 0.0\\nsamples = 1\\nvalue = [0, 1]'),\n",
       " Text(0.5162523900573613, 0.5476190476190477, 'gini = 0.0\\nsamples = 2\\nvalue = [2, 0]'),\n",
       " Text(0.5009560229445507, 0.7380952380952381, 'gini = 0.0\\nsamples = 1\\nvalue = [0, 1]'),\n",
       " Text(0.5315487571701721, 0.8333333333333334, 'x[4] <= 35.538\\ngini = 0.091\\nsamples = 21\\nvalue = [20, 1]'),\n",
       " Text(0.5239005736137667, 0.7857142857142857, 'x[4] <= 31.331\\ngini = 0.219\\nsamples = 8\\nvalue = [7, 1]'),\n",
       " Text(0.5162523900573613, 0.7380952380952381, 'gini = 0.0\\nsamples = 6\\nvalue = [6, 0]'),\n",
       " Text(0.5315487571701721, 0.7380952380952381, 'x[1] <= 6.0\\ngini = 0.5\\nsamples = 2\\nvalue = [1, 1]'),\n",
       " Text(0.5239005736137667, 0.6904761904761905, 'gini = 0.0\\nsamples = 1\\nvalue = [0, 1]'),\n",
       " Text(0.5391969407265774, 0.6904761904761905, 'gini = 0.0\\nsamples = 1\\nvalue = [1, 0]'),\n",
       " Text(0.5391969407265774, 0.7857142857142857, 'gini = 0.0\\nsamples = 13\\nvalue = [13, 0]'),\n",
       " Text(0.759321223709369, 0.9285714285714286, 'x[0] <= 2.5\\ngini = 0.381\\nsamples = 281\\nvalue = [72, 209]'),\n",
       " Text(0.6175908221797323, 0.8809523809523809, 'x[4] <= 28.856\\ngini = 0.111\\nsamples = 152\\nvalue = [9, 143]'),\n",
       " Text(0.6022944550669216, 0.8333333333333334, 'x[4] <= 28.217\\ngini = 0.206\\nsamples = 60\\nvalue = [7, 53]'),\n",
       " Text(0.5946462715105163, 0.7857142857142857, 'x[1] <= 56.0\\ngini = 0.183\\nsamples = 59\\nvalue = [6, 53]'),\n",
       " Text(0.5736137667304015, 0.7380952380952381, 'x[2] <= 0.5\\ngini = 0.16\\nsamples = 57\\nvalue = [5, 52]'),\n",
       " Text(0.5544933078393881, 0.6904761904761905, 'x[4] <= 13.396\\ngini = 0.1\\nsamples = 38\\nvalue = [2, 36]'),\n",
       " Text(0.5468451242829828, 0.6428571428571429, 'x[4] <= 12.825\\ngini = 0.172\\nsamples = 21\\nvalue = [2, 19]'),\n",
       " Text(0.5391969407265774, 0.5952380952380952, 'gini = 0.0\\nsamples = 9\\nvalue = [0, 9]'),\n",
       " Text(0.5544933078393881, 0.5952380952380952, 'x[1] <= 26.0\\ngini = 0.278\\nsamples = 12\\nvalue = [2, 10]'),\n",
       " Text(0.5468451242829828, 0.5476190476190477, 'gini = 0.5\\nsamples = 2\\nvalue = [1, 1]'),\n",
       " Text(0.5621414913957935, 0.5476190476190477, 'x[1] <= 37.0\\ngini = 0.18\\nsamples = 10\\nvalue = [1, 9]'),\n",
       " Text(0.5544933078393881, 0.5, 'gini = 0.0\\nsamples = 8\\nvalue = [0, 8]'),\n",
       " Text(0.5697896749521989, 0.5, 'x[1] <= 40.0\\ngini = 0.5\\nsamples = 2\\nvalue = [1, 1]'),\n",
       " Text(0.5621414913957935, 0.4523809523809524, 'gini = 0.0\\nsamples = 1\\nvalue = [1, 0]'),\n",
       " Text(0.5774378585086042, 0.4523809523809524, 'gini = 0.0\\nsamples = 1\\nvalue = [0, 1]'),\n",
       " Text(0.5621414913957935, 0.6428571428571429, 'gini = 0.0\\nsamples = 17\\nvalue = [0, 17]'),\n",
       " Text(0.5927342256214149, 0.6904761904761905, 'x[1] <= 25.0\\ngini = 0.266\\nsamples = 19\\nvalue = [3, 16]'),\n",
       " Text(0.5850860420650096, 0.6428571428571429, 'gini = 0.0\\nsamples = 6\\nvalue = [0, 6]'),\n",
       " Text(0.6003824091778203, 0.6428571428571429, 'x[1] <= 27.5\\ngini = 0.355\\nsamples = 13\\nvalue = [3, 10]'),\n",
       " Text(0.5850860420650096, 0.5952380952380952, 'x[4] <= 17.429\\ngini = 0.444\\nsamples = 3\\nvalue = [2, 1]'),\n",
       " Text(0.5774378585086042, 0.5476190476190477, 'gini = 0.0\\nsamples = 1\\nvalue = [0, 1]'),\n",
       " Text(0.5927342256214149, 0.5476190476190477, 'gini = 0.0\\nsamples = 2\\nvalue = [2, 0]'),\n",
       " Text(0.615678776290631, 0.5952380952380952, 'x[1] <= 43.0\\ngini = 0.18\\nsamples = 10\\nvalue = [1, 9]'),\n",
       " Text(0.6080305927342257, 0.5476190476190477, 'gini = 0.0\\nsamples = 7\\nvalue = [0, 7]'),\n",
       " Text(0.6233269598470363, 0.5476190476190477, 'x[3] <= 0.5\\ngini = 0.444\\nsamples = 3\\nvalue = [1, 2]'),\n",
       " Text(0.615678776290631, 0.5, 'gini = 0.0\\nsamples = 1\\nvalue = [1, 0]'),\n",
       " Text(0.6309751434034416, 0.5, 'gini = 0.0\\nsamples = 2\\nvalue = [0, 2]'),\n",
       " Text(0.615678776290631, 0.7380952380952381, 'x[4] <= 18.525\\ngini = 0.5\\nsamples = 2\\nvalue = [1, 1]'),\n",
       " Text(0.6080305927342257, 0.6904761904761905, 'gini = 0.0\\nsamples = 1\\nvalue = [1, 0]'),\n",
       " Text(0.6233269598470363, 0.6904761904761905, 'gini = 0.0\\nsamples = 1\\nvalue = [0, 1]'),\n",
       " Text(0.609942638623327, 0.7857142857142857, 'gini = 0.0\\nsamples = 1\\nvalue = [1, 0]'),\n",
       " Text(0.6328871892925431, 0.8333333333333334, 'x[3] <= 1.5\\ngini = 0.043\\nsamples = 92\\nvalue = [2, 90]'),\n",
       " Text(0.6252390057361377, 0.7857142857142857, 'gini = 0.0\\nsamples = 79\\nvalue = [0, 79]'),\n",
       " Text(0.6405353728489483, 0.7857142857142857, 'x[1] <= 2.5\\ngini = 0.26\\nsamples = 13\\nvalue = [2, 11]'),\n",
       " Text(0.6328871892925431, 0.7380952380952381, 'gini = 0.0\\nsamples = 1\\nvalue = [1, 0]'),\n",
       " Text(0.6481835564053537, 0.7380952380952381, 'x[1] <= 24.5\\ngini = 0.153\\nsamples = 12\\nvalue = [1, 11]'),\n",
       " Text(0.6405353728489483, 0.6904761904761905, 'gini = 0.0\\nsamples = 8\\nvalue = [0, 8]'),\n",
       " Text(0.655831739961759, 0.6904761904761905, 'x[1] <= 28.0\\ngini = 0.375\\nsamples = 4\\nvalue = [1, 3]'),\n",
       " Text(0.6481835564053537, 0.6428571428571429, 'gini = 0.0\\nsamples = 1\\nvalue = [1, 0]'),\n",
       " Text(0.6634799235181644, 0.6428571428571429, 'gini = 0.0\\nsamples = 3\\nvalue = [0, 3]'),\n",
       " Text(0.9010516252390057, 0.8809523809523809, 'x[4] <= 23.35\\ngini = 0.5\\nsamples = 129\\nvalue = [63, 66]'),\n",
       " Text(0.8326959847036329, 0.8333333333333334, 'x[1] <= 17.5\\ngini = 0.482\\nsamples = 106\\nvalue = [43, 63]'),\n",
       " Text(0.745697896749522, 0.7857142857142857, 'x[4] <= 8.04\\ngini = 0.389\\nsamples = 53\\nvalue = [14, 39]'),\n",
       " Text(0.7131931166347992, 0.7380952380952381, 'x[3] <= 1.0\\ngini = 0.211\\nsamples = 25\\nvalue = [3, 22]'),\n",
       " Text(0.6940726577437859, 0.6904761904761905, 'x[1] <= 13.5\\ngini = 0.159\\nsamples = 23\\nvalue = [2, 21]'),\n",
       " Text(0.6787762906309751, 0.6428571428571429, 'x[4] <= 7.681\\ngini = 0.105\\nsamples = 18\\nvalue = [1, 17]'),\n",
       " Text(0.6711281070745698, 0.5952380952380952, 'x[4] <= 7.429\\ngini = 0.375\\nsamples = 4\\nvalue = [1, 3]'),\n",
       " Text(0.6634799235181644, 0.5476190476190477, 'gini = 0.0\\nsamples = 3\\nvalue = [0, 3]'),\n",
       " Text(0.6787762906309751, 0.5476190476190477, 'gini = 0.0\\nsamples = 1\\nvalue = [1, 0]'),\n",
       " Text(0.6864244741873805, 0.5952380952380952, 'gini = 0.0\\nsamples = 14\\nvalue = [0, 14]'),\n",
       " Text(0.7093690248565966, 0.6428571428571429, 'x[1] <= 14.5\\ngini = 0.32\\nsamples = 5\\nvalue = [1, 4]'),\n",
       " Text(0.7017208413001912, 0.5952380952380952, 'gini = 0.0\\nsamples = 1\\nvalue = [1, 0]'),\n",
       " Text(0.7170172084130019, 0.5952380952380952, 'gini = 0.0\\nsamples = 4\\nvalue = [0, 4]'),\n",
       " Text(0.7323135755258127, 0.6904761904761905, 'x[2] <= 2.0\\ngini = 0.5\\nsamples = 2\\nvalue = [1, 1]'),\n",
       " Text(0.7246653919694073, 0.6428571428571429, 'gini = 0.0\\nsamples = 1\\nvalue = [1, 0]'),\n",
       " Text(0.739961759082218, 0.6428571428571429, 'gini = 0.0\\nsamples = 1\\nvalue = [0, 1]'),\n",
       " Text(0.7782026768642447, 0.7380952380952381, 'x[4] <= 15.373\\ngini = 0.477\\nsamples = 28\\nvalue = [11, 17]'),\n",
       " Text(0.762906309751434, 0.6904761904761905, 'x[1] <= 0.5\\ngini = 0.459\\nsamples = 14\\nvalue = [9, 5]'),\n",
       " Text(0.7552581261950286, 0.6428571428571429, 'gini = 0.0\\nsamples = 6\\nvalue = [6, 0]'),\n",
       " Text(0.7705544933078394, 0.6428571428571429, 'x[4] <= 10.798\\ngini = 0.469\\nsamples = 8\\nvalue = [3, 5]'),\n",
       " Text(0.762906309751434, 0.5952380952380952, 'gini = 0.0\\nsamples = 1\\nvalue = [1, 0]'),\n",
       " Text(0.7782026768642447, 0.5952380952380952, 'x[4] <= 13.935\\ngini = 0.408\\nsamples = 7\\nvalue = [2, 5]'),\n",
       " Text(0.7705544933078394, 0.5476190476190477, 'gini = 0.0\\nsamples = 4\\nvalue = [0, 4]'),\n",
       " Text(0.7858508604206501, 0.5476190476190477, 'x[1] <= 14.75\\ngini = 0.444\\nsamples = 3\\nvalue = [2, 1]'),\n",
       " Text(0.7782026768642447, 0.5, 'gini = 0.0\\nsamples = 2\\nvalue = [2, 0]'),\n",
       " Text(0.7934990439770554, 0.5, 'gini = 0.0\\nsamples = 1\\nvalue = [0, 1]'),\n",
       " Text(0.7934990439770554, 0.6904761904761905, 'x[2] <= 2.5\\ngini = 0.245\\nsamples = 14\\nvalue = [2, 12]'),\n",
       " Text(0.7858508604206501, 0.6428571428571429, 'gini = 0.0\\nsamples = 12\\nvalue = [0, 12]'),\n",
       " Text(0.8011472275334608, 0.6428571428571429, 'gini = 0.0\\nsamples = 2\\nvalue = [2, 0]'),\n",
       " Text(0.9196940726577438, 0.7857142857142857, 'x[2] <= 0.5\\ngini = 0.496\\nsamples = 53\\nvalue = [29, 24]'),\n",
       " Text(0.8852772466539197, 0.7380952380952381, 'x[1] <= 27.5\\ngini = 0.499\\nsamples = 38\\nvalue = [18, 20]'),\n",
       " Text(0.8546845124282982, 0.6904761904761905, 'x[1] <= 25.5\\ngini = 0.473\\nsamples = 26\\nvalue = [10, 16]'),\n",
       " Text(0.847036328871893, 0.6428571428571429, 'x[4] <= 7.763\\ngini = 0.496\\nsamples = 22\\nvalue = [10, 12]'),\n",
       " Text(0.8087954110898662, 0.5952380952380952, 'x[4] <= 7.0\\ngini = 0.375\\nsamples = 8\\nvalue = [2, 6]'),\n",
       " Text(0.8011472275334608, 0.5476190476190477, 'gini = 0.0\\nsamples = 1\\nvalue = [1, 0]'),\n",
       " Text(0.8164435946462715, 0.5476190476190477, 'x[4] <= 7.7\\ngini = 0.245\\nsamples = 7\\nvalue = [1, 6]'),\n",
       " Text(0.8087954110898662, 0.5, 'gini = 0.0\\nsamples = 4\\nvalue = [0, 4]'),\n",
       " Text(0.8240917782026769, 0.5, 'x[1] <= 21.5\\ngini = 0.444\\nsamples = 3\\nvalue = [1, 2]'),\n",
       " Text(0.8164435946462715, 0.4523809523809524, 'gini = 0.0\\nsamples = 1\\nvalue = [1, 0]'),\n",
       " Text(0.8317399617590823, 0.4523809523809524, 'gini = 0.0\\nsamples = 2\\nvalue = [0, 2]'),\n",
       " Text(0.8852772466539197, 0.5952380952380952, 'x[3] <= 1.5\\ngini = 0.49\\nsamples = 14\\nvalue = [8, 6]'),\n",
       " Text(0.8776290630975143, 0.5476190476190477, 'x[1] <= 19.5\\ngini = 0.444\\nsamples = 12\\nvalue = [8, 4]'),\n",
       " Text(0.8546845124282982, 0.5, 'x[4] <= 7.827\\ngini = 0.48\\nsamples = 5\\nvalue = [2, 3]'),\n",
       " Text(0.847036328871893, 0.4523809523809524, 'gini = 0.0\\nsamples = 1\\nvalue = [1, 0]'),\n",
       " Text(0.8623326959847036, 0.4523809523809524, 'x[4] <= 12.148\\ngini = 0.375\\nsamples = 4\\nvalue = [1, 3]'),\n",
       " Text(0.8546845124282982, 0.40476190476190477, 'gini = 0.0\\nsamples = 3\\nvalue = [0, 3]'),\n",
       " Text(0.869980879541109, 0.40476190476190477, 'gini = 0.0\\nsamples = 1\\nvalue = [1, 0]'),\n",
       " Text(0.9005736137667304, 0.5, 'x[4] <= 7.85\\ngini = 0.245\\nsamples = 7\\nvalue = [6, 1]'),\n",
       " Text(0.892925430210325, 0.4523809523809524, 'x[1] <= 23.5\\ngini = 0.5\\nsamples = 2\\nvalue = [1, 1]'),\n",
       " Text(0.8852772466539197, 0.40476190476190477, 'gini = 0.0\\nsamples = 1\\nvalue = [0, 1]'),\n",
       " Text(0.9005736137667304, 0.40476190476190477, 'gini = 0.0\\nsamples = 1\\nvalue = [1, 0]'),\n",
       " Text(0.9082217973231358, 0.4523809523809524, 'gini = 0.0\\nsamples = 5\\nvalue = [5, 0]'),\n",
       " Text(0.892925430210325, 0.5476190476190477, 'gini = 0.0\\nsamples = 2\\nvalue = [0, 2]'),\n",
       " Text(0.8623326959847036, 0.6428571428571429, 'gini = 0.0\\nsamples = 4\\nvalue = [0, 4]'),\n",
       " Text(0.9158699808795411, 0.6904761904761905, 'x[4] <= 8.673\\ngini = 0.444\\nsamples = 12\\nvalue = [8, 4]'),\n",
       " Text(0.9082217973231358, 0.6428571428571429, 'gini = 0.0\\nsamples = 5\\nvalue = [5, 0]'),\n",
       " Text(0.9235181644359465, 0.6428571428571429, 'x[3] <= 3.0\\ngini = 0.49\\nsamples = 7\\nvalue = [3, 4]'),\n",
       " Text(0.9158699808795411, 0.5952380952380952, 'x[1] <= 34.0\\ngini = 0.444\\nsamples = 6\\nvalue = [2, 4]'),\n",
       " Text(0.9082217973231358, 0.5476190476190477, 'gini = 0.0\\nsamples = 3\\nvalue = [0, 3]'),\n",
       " Text(0.9235181644359465, 0.5476190476190477, 'x[1] <= 54.0\\ngini = 0.444\\nsamples = 3\\nvalue = [2, 1]'),\n",
       " Text(0.9158699808795411, 0.5, 'gini = 0.0\\nsamples = 2\\nvalue = [2, 0]'),\n",
       " Text(0.9311663479923518, 0.5, 'gini = 0.0\\nsamples = 1\\nvalue = [0, 1]'),\n",
       " Text(0.9311663479923518, 0.5952380952380952, 'gini = 0.0\\nsamples = 1\\nvalue = [1, 0]'),\n",
       " Text(0.9541108986615678, 0.7380952380952381, 'x[4] <= 19.125\\ngini = 0.391\\nsamples = 15\\nvalue = [11, 4]'),\n",
       " Text(0.9464627151051626, 0.6904761904761905, 'x[4] <= 7.89\\ngini = 0.26\\nsamples = 13\\nvalue = [11, 2]'),\n",
       " Text(0.9388145315487572, 0.6428571428571429, 'gini = 0.0\\nsamples = 1\\nvalue = [0, 1]'),\n",
       " Text(0.9541108986615678, 0.6428571428571429, 'x[4] <= 15.675\\ngini = 0.153\\nsamples = 12\\nvalue = [11, 1]'),\n",
       " Text(0.9464627151051626, 0.5952380952380952, 'gini = 0.0\\nsamples = 8\\nvalue = [8, 0]'),\n",
       " Text(0.9617590822179732, 0.5952380952380952, 'x[4] <= 15.975\\ngini = 0.375\\nsamples = 4\\nvalue = [3, 1]'),\n",
       " Text(0.9541108986615678, 0.5476190476190477, 'gini = 0.0\\nsamples = 1\\nvalue = [0, 1]'),\n",
       " Text(0.9694072657743786, 0.5476190476190477, 'gini = 0.0\\nsamples = 3\\nvalue = [3, 0]'),\n",
       " Text(0.9617590822179732, 0.6904761904761905, 'gini = 0.0\\nsamples = 2\\nvalue = [0, 2]'),\n",
       " Text(0.9694072657743786, 0.8333333333333334, 'x[3] <= 0.5\\ngini = 0.227\\nsamples = 23\\nvalue = [20, 3]'),\n",
       " Text(0.9617590822179732, 0.7857142857142857, 'gini = 0.0\\nsamples = 1\\nvalue = [0, 1]'),\n",
       " Text(0.9770554493307839, 0.7857142857142857, 'x[4] <= 31.331\\ngini = 0.165\\nsamples = 22\\nvalue = [20, 2]'),\n",
       " Text(0.9694072657743786, 0.7380952380952381, 'gini = 0.0\\nsamples = 14\\nvalue = [14, 0]'),\n",
       " Text(0.9847036328871893, 0.7380952380952381, 'x[4] <= 32.881\\ngini = 0.375\\nsamples = 8\\nvalue = [6, 2]'),\n",
       " Text(0.9770554493307839, 0.6904761904761905, 'gini = 0.0\\nsamples = 2\\nvalue = [0, 2]'),\n",
       " Text(0.9923518164435946, 0.6904761904761905, 'gini = 0.0\\nsamples = 6\\nvalue = [6, 0]')]"
      ]
     },
     "execution_count": 1048,
     "metadata": {},
     "output_type": "execute_result"
    },
    {
     "data": {
      "image/png": "[encoded data removed]",
      "text/plain": [
       "<Figure size 640x480 with 1 Axes>"
      ]
     },
     "metadata": {},
     "output_type": "display_data"
    }
   ],
   "source": [
    "plot_tree(arbol)"
   ]
  },
  {
   "cell_type": "markdown",
   "id": "7af0ecff-d51a-4ed9-83fc-adf4da339d75",
   "metadata": {},
   "source": [
    "**El modelo se extiende (división de datos) indefinidamente hasta llegar a un ratio de Gini igual a 0, si tenemos en cuenta que este mide la impureza del nodo entonces llegaremos a la conclusión de que a través de la generación de ramificaciones el sistema pretende alcanzar ese valor de 0% y cubrir todas las rutas posibles**"
   ]
  },
  {
   "cell_type": "code",
   "execution_count": 1049,
   "id": "9ec5909d-3435-46ea-bbee-d7a390410947",
   "metadata": {},
   "outputs": [],
   "source": [
    "Y_train_pred = tree.predict(X_train)\n",
    "train_accuracy = accuracy_score(Y_train, Y_train_pred)"
   ]
  },
  {
   "cell_type": "code",
   "execution_count": 1050,
   "id": "5bc87584-b734-42e4-83d0-fbb5aacca9be",
   "metadata": {},
   "outputs": [],
   "source": [
    "Y_test_pred = tree.predict(X_test)\n",
    "test_accuracy = accuracy_score(Y_test, Y_test_pred)"
   ]
  },
  {
   "cell_type": "code",
   "execution_count": 1051,
   "id": "8f80ed6e-103c-46cf-a261-de2af72c17a5",
   "metadata": {},
   "outputs": [
    {
     "name": "stdout",
     "output_type": "stream",
     "text": [
      "Accuracy on the training set: 0.9850187265917603\n",
      "Accuracy on the testing set: 0.8111111111111111\n"
     ]
    }
   ],
   "source": [
    "print(\"Accuracy on the training set:\", train_accuracy)\n",
    "print(\"Accuracy on the testing set:\", test_accuracy)"
   ]
  },
  {
   "cell_type": "markdown",
   "id": "b233c726-ae4f-4d58-9fd9-9cbb85f9cc0a",
   "metadata": {},
   "source": [
    "**El modelo ha logrado tener un buen desempeño, los porcentajes de precición tanto para los datos de entrenamiento como para los de prueba han sido satisfactorios**"
   ]
  },
  {
   "cell_type": "markdown",
   "id": "689aad61-440d-4a67-bdb0-eaf721dbc104",
   "metadata": {},
   "source": [
    "**Las probabilidades de un sobreajuste son relativamente bajas**"
   ]
  },
  {
   "cell_type": "code",
   "execution_count": 1052,
   "id": "a29ad6b3-b7bf-4309-9901-4eefaed79d2a",
   "metadata": {},
   "outputs": [],
   "source": [
    "#Toma el valor restante de 10% → 89 datos\n",
    "predicciones = arbol.predict(X_test)"
   ]
  },
  {
   "cell_type": "code",
   "execution_count": 1053,
   "id": "9fba4bb0-1189-4ae8-b2c9-8e21e8fdf126",
   "metadata": {},
   "outputs": [
    {
     "data": {
      "text/plain": [
       "array([0, 0, 1, 0, 0, 1, 0, 0, 0, 1, 0, 1, 1, 0, 0, 1, 1, 0, 1, 0, 1, 1,\n",
       "       0, 0, 0, 0, 1, 0, 1, 1, 1, 1, 0, 0, 0, 0, 0, 0, 0, 1, 1, 0, 0, 0,\n",
       "       0, 1, 0, 0, 1, 0, 1, 1, 1, 0, 0, 1, 0, 0, 0, 0, 1, 0, 1, 0, 0, 0,\n",
       "       1, 1, 1, 1, 0, 1, 0, 0, 0, 1, 0, 1, 0, 1, 0, 0, 1, 1, 0, 0, 0, 1,\n",
       "       0, 0])"
      ]
     },
     "execution_count": 1053,
     "metadata": {},
     "output_type": "execute_result"
    }
   ],
   "source": [
    "predicciones"
   ]
  },
  {
   "cell_type": "markdown",
   "id": "bf58012b-b7a6-430f-94d1-afcb75d8d2e3",
   "metadata": {},
   "source": [
    "**No se ahogo, no se ahogo, si se ahogo...**"
   ]
  },
  {
   "cell_type": "markdown",
   "id": "ce156170-cd7b-4eaa-988d-d2326508f4fd",
   "metadata": {},
   "source": [
    "**Predicciones realizadas con respecto a la variable objetivo \"Survived\"**"
   ]
  },
  {
   "cell_type": "code",
   "execution_count": 1054,
   "id": "8efde1f4-e60f-4396-9bc8-9ace92485a22",
   "metadata": {},
   "outputs": [
    {
     "data": {
      "text/html": [
       "<div>\n",
       "<style scoped>\n",
       "    .dataframe tbody tr th:only-of-type {\n",
       "        vertical-align: middle;\n",
       "    }\n",
       "\n",
       "    .dataframe tbody tr th {\n",
       "        vertical-align: top;\n",
       "    }\n",
       "\n",
       "    .dataframe thead th {\n",
       "        text-align: right;\n",
       "    }\n",
       "</style>\n",
       "<table border=\"1\" class=\"dataframe\">\n",
       "  <thead>\n",
       "    <tr style=\"text-align: right;\">\n",
       "      <th>Predicciones</th>\n",
       "      <th>0</th>\n",
       "      <th>1</th>\n",
       "    </tr>\n",
       "    <tr>\n",
       "      <th>Actual</th>\n",
       "      <th></th>\n",
       "      <th></th>\n",
       "    </tr>\n",
       "  </thead>\n",
       "  <tbody>\n",
       "    <tr>\n",
       "      <th>0</th>\n",
       "      <td>48</td>\n",
       "      <td>11</td>\n",
       "    </tr>\n",
       "    <tr>\n",
       "      <th>1</th>\n",
       "      <td>6</td>\n",
       "      <td>25</td>\n",
       "    </tr>\n",
       "  </tbody>\n",
       "</table>\n",
       "</div>"
      ],
      "text/plain": [
       "Predicciones   0   1\n",
       "Actual              \n",
       "0             48  11\n",
       "1              6  25"
      ]
     },
     "execution_count": 1054,
     "metadata": {},
     "output_type": "execute_result"
    }
   ],
   "source": [
    "#Matriz de confusión\n",
    "pd.crosstab(np.array([Y[0] for Y in Y_test.values.tolist()]), predicciones, rownames=['Actual'], \n",
    "colnames=['Predicciones'])"
   ]
  },
  {
   "cell_type": "markdown",
   "id": "a377afb7-66c4-4c94-ad38-7a5268acc2fa",
   "metadata": {},
   "source": [
    "**Matriz de confusión -> Evalua el modelo de clasificación**"
   ]
  },
  {
   "cell_type": "markdown",
   "id": "8dd18f75-cc34-4603-9ebd-6ac9bce0bdfd",
   "metadata": {},
   "source": [
    "**Total predicciones erroneas: 17**"
   ]
  },
  {
   "cell_type": "code",
   "execution_count": 1055,
   "id": "e8d2770b-5648-42f0-bb9e-b6beacb4ab1e",
   "metadata": {},
   "outputs": [
    {
     "data": {
      "text/plain": [
       "0.8111111111111111"
      ]
     },
     "execution_count": 1055,
     "metadata": {},
     "output_type": "execute_result"
    }
   ],
   "source": [
    "accuracy = accuracy_score(Y_test, predicciones)\n",
    "accuracy"
   ]
  }
 ],
 "metadata": {
  "kernelspec": {
   "display_name": "Python 3 (ipykernel)",
   "language": "python",
   "name": "python3"
  },
  "language_info": {
   "codemirror_mode": {
    "name": "ipython",
    "version": 3
   },
   "file_extension": ".py",
   "mimetype": "text/x-python",
   "name": "python",
   "nbconvert_exporter": "python",
   "pygments_lexer": "ipython3",
   "version": "3.11.7"
  }
 },
 "nbformat": 4,
 "nbformat_minor": 5
}
